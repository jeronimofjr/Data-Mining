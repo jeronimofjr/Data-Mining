{
 "cells": [
  {
   "cell_type": "markdown",
   "metadata": {},
   "source": [
    "Nome: Francisco Jerônimo da Silva Júnior <br>\n",
    "Matrícula: 433399 <br>\n",
    "Curso: Ciência da Computação <br>"
   ]
  },
  {
   "cell_type": "markdown",
   "metadata": {},
   "source": [
    "# Data Preprocessing\n",
    "\n",
    "The following tutorial contains Python examples for data preprocessing. You should refer to the \"Data\" chapter of the \"Introduction to Data Mining\" book to understand some of the concepts introduced in this tutorial. \n"
   ]
  },
  {
   "cell_type": "markdown",
   "metadata": {},
   "source": [
    "O pré-processamento de dados consiste em um amplo conjunto de técnicas para limpeza, seleção e transformação de dados para aprimorar a análise de mineração de dados. Leia as instruções passo a passo abaixo com cuidado. Para executar o código, clique na célula correspondente e pressione as teclas SHIFT-ENTER simultaneamente."
   ]
  },
  {
   "cell_type": "markdown",
   "metadata": {},
   "source": [
    "## 4.1 Problemas de qualidade de dados\n",
    "\n",
    "A baixa qualidade dos dados pode ter um efeito adverso na mineração de dados. Entre os problemas comuns de qualidade de dados estão ruído, valores discrepantes, valores ausentes e dados duplicados. \n",
    "\n",
    "Começamos com um conjunto de dados de exemplo do repositório de aprendizado de máquina da UCI que contém informações sobre pacientes com câncer de mama.\n"
   ]
  },
  {
   "cell_type": "markdown",
   "metadata": {},
   "source": [
    "### Primeiro, faça o download do conjunto de dados NFL Play by Play usando a função Pandas read_csv() e exiba seus primeiros 5 pontos de dados, exiba o número de instâncias e de atributos.\n",
    "\n",
    "https://www.kaggle.com/maxhorowitz/nflplaybyplay2009to2016/download"
   ]
  },
  {
   "cell_type": "code",
   "execution_count": 3,
   "metadata": {},
   "outputs": [],
   "source": [
    "import pandas as pd\n",
    "import numpy as np\n",
    "from matplotlib import pyplot as plt  "
   ]
  },
  {
   "cell_type": "code",
   "execution_count": 4,
   "metadata": {
    "scrolled": true
   },
   "outputs": [],
   "source": [
    "df = pd.read_csv(\"NFL Play by Play 2009-2016 (v3).csv\")"
   ]
  },
  {
   "cell_type": "code",
   "execution_count": 5,
   "metadata": {},
   "outputs": [
    {
     "data": {
      "text/html": [
       "<div>\n",
       "<style scoped>\n",
       "    .dataframe tbody tr th:only-of-type {\n",
       "        vertical-align: middle;\n",
       "    }\n",
       "\n",
       "    .dataframe tbody tr th {\n",
       "        vertical-align: top;\n",
       "    }\n",
       "\n",
       "    .dataframe thead th {\n",
       "        text-align: right;\n",
       "    }\n",
       "</style>\n",
       "<table border=\"1\" class=\"dataframe\">\n",
       "  <thead>\n",
       "    <tr style=\"text-align: right;\">\n",
       "      <th></th>\n",
       "      <th>Date</th>\n",
       "      <th>GameID</th>\n",
       "      <th>Drive</th>\n",
       "      <th>qtr</th>\n",
       "      <th>down</th>\n",
       "      <th>time</th>\n",
       "      <th>TimeUnder</th>\n",
       "      <th>TimeSecs</th>\n",
       "      <th>PlayTimeDiff</th>\n",
       "      <th>SideofField</th>\n",
       "      <th>...</th>\n",
       "      <th>yacEPA</th>\n",
       "      <th>Home_WP_pre</th>\n",
       "      <th>Away_WP_pre</th>\n",
       "      <th>Home_WP_post</th>\n",
       "      <th>Away_WP_post</th>\n",
       "      <th>Win_Prob</th>\n",
       "      <th>WPA</th>\n",
       "      <th>airWPA</th>\n",
       "      <th>yacWPA</th>\n",
       "      <th>Season</th>\n",
       "    </tr>\n",
       "  </thead>\n",
       "  <tbody>\n",
       "    <tr>\n",
       "      <th>0</th>\n",
       "      <td>2009-09-10</td>\n",
       "      <td>2009091000</td>\n",
       "      <td>1</td>\n",
       "      <td>1</td>\n",
       "      <td>NaN</td>\n",
       "      <td>15:00</td>\n",
       "      <td>15</td>\n",
       "      <td>3600.0</td>\n",
       "      <td>0.0</td>\n",
       "      <td>TEN</td>\n",
       "      <td>...</td>\n",
       "      <td>NaN</td>\n",
       "      <td>0.485675</td>\n",
       "      <td>0.514325</td>\n",
       "      <td>0.546433</td>\n",
       "      <td>0.453567</td>\n",
       "      <td>0.485675</td>\n",
       "      <td>0.060758</td>\n",
       "      <td>NaN</td>\n",
       "      <td>NaN</td>\n",
       "      <td>2009</td>\n",
       "    </tr>\n",
       "    <tr>\n",
       "      <th>1</th>\n",
       "      <td>2009-09-10</td>\n",
       "      <td>2009091000</td>\n",
       "      <td>1</td>\n",
       "      <td>1</td>\n",
       "      <td>1.0</td>\n",
       "      <td>14:53</td>\n",
       "      <td>15</td>\n",
       "      <td>3593.0</td>\n",
       "      <td>7.0</td>\n",
       "      <td>PIT</td>\n",
       "      <td>...</td>\n",
       "      <td>1.146076</td>\n",
       "      <td>0.546433</td>\n",
       "      <td>0.453567</td>\n",
       "      <td>0.551088</td>\n",
       "      <td>0.448912</td>\n",
       "      <td>0.546433</td>\n",
       "      <td>0.004655</td>\n",
       "      <td>-0.032244</td>\n",
       "      <td>0.036899</td>\n",
       "      <td>2009</td>\n",
       "    </tr>\n",
       "    <tr>\n",
       "      <th>2</th>\n",
       "      <td>2009-09-10</td>\n",
       "      <td>2009091000</td>\n",
       "      <td>1</td>\n",
       "      <td>1</td>\n",
       "      <td>2.0</td>\n",
       "      <td>14:16</td>\n",
       "      <td>15</td>\n",
       "      <td>3556.0</td>\n",
       "      <td>37.0</td>\n",
       "      <td>PIT</td>\n",
       "      <td>...</td>\n",
       "      <td>NaN</td>\n",
       "      <td>0.551088</td>\n",
       "      <td>0.448912</td>\n",
       "      <td>0.510793</td>\n",
       "      <td>0.489207</td>\n",
       "      <td>0.551088</td>\n",
       "      <td>-0.040295</td>\n",
       "      <td>NaN</td>\n",
       "      <td>NaN</td>\n",
       "      <td>2009</td>\n",
       "    </tr>\n",
       "    <tr>\n",
       "      <th>3</th>\n",
       "      <td>2009-09-10</td>\n",
       "      <td>2009091000</td>\n",
       "      <td>1</td>\n",
       "      <td>1</td>\n",
       "      <td>3.0</td>\n",
       "      <td>13:35</td>\n",
       "      <td>14</td>\n",
       "      <td>3515.0</td>\n",
       "      <td>41.0</td>\n",
       "      <td>PIT</td>\n",
       "      <td>...</td>\n",
       "      <td>-5.031425</td>\n",
       "      <td>0.510793</td>\n",
       "      <td>0.489207</td>\n",
       "      <td>0.461217</td>\n",
       "      <td>0.538783</td>\n",
       "      <td>0.510793</td>\n",
       "      <td>-0.049576</td>\n",
       "      <td>0.106663</td>\n",
       "      <td>-0.156239</td>\n",
       "      <td>2009</td>\n",
       "    </tr>\n",
       "    <tr>\n",
       "      <th>4</th>\n",
       "      <td>2009-09-10</td>\n",
       "      <td>2009091000</td>\n",
       "      <td>1</td>\n",
       "      <td>1</td>\n",
       "      <td>4.0</td>\n",
       "      <td>13:27</td>\n",
       "      <td>14</td>\n",
       "      <td>3507.0</td>\n",
       "      <td>8.0</td>\n",
       "      <td>PIT</td>\n",
       "      <td>...</td>\n",
       "      <td>NaN</td>\n",
       "      <td>0.461217</td>\n",
       "      <td>0.538783</td>\n",
       "      <td>0.558929</td>\n",
       "      <td>0.441071</td>\n",
       "      <td>0.461217</td>\n",
       "      <td>0.097712</td>\n",
       "      <td>NaN</td>\n",
       "      <td>NaN</td>\n",
       "      <td>2009</td>\n",
       "    </tr>\n",
       "  </tbody>\n",
       "</table>\n",
       "<p>5 rows × 102 columns</p>\n",
       "</div>"
      ],
      "text/plain": [
       "         Date      GameID  Drive  qtr  down   time  TimeUnder  TimeSecs  \\\n",
       "0  2009-09-10  2009091000      1    1   NaN  15:00         15    3600.0   \n",
       "1  2009-09-10  2009091000      1    1   1.0  14:53         15    3593.0   \n",
       "2  2009-09-10  2009091000      1    1   2.0  14:16         15    3556.0   \n",
       "3  2009-09-10  2009091000      1    1   3.0  13:35         14    3515.0   \n",
       "4  2009-09-10  2009091000      1    1   4.0  13:27         14    3507.0   \n",
       "\n",
       "   PlayTimeDiff SideofField  ...    yacEPA  Home_WP_pre  Away_WP_pre  \\\n",
       "0           0.0         TEN  ...       NaN     0.485675     0.514325   \n",
       "1           7.0         PIT  ...  1.146076     0.546433     0.453567   \n",
       "2          37.0         PIT  ...       NaN     0.551088     0.448912   \n",
       "3          41.0         PIT  ... -5.031425     0.510793     0.489207   \n",
       "4           8.0         PIT  ...       NaN     0.461217     0.538783   \n",
       "\n",
       "   Home_WP_post  Away_WP_post  Win_Prob       WPA    airWPA    yacWPA  Season  \n",
       "0      0.546433      0.453567  0.485675  0.060758       NaN       NaN    2009  \n",
       "1      0.551088      0.448912  0.546433  0.004655 -0.032244  0.036899    2009  \n",
       "2      0.510793      0.489207  0.551088 -0.040295       NaN       NaN    2009  \n",
       "3      0.461217      0.538783  0.510793 -0.049576  0.106663 -0.156239    2009  \n",
       "4      0.558929      0.441071  0.461217  0.097712       NaN       NaN    2009  \n",
       "\n",
       "[5 rows x 102 columns]"
      ]
     },
     "execution_count": 5,
     "metadata": {},
     "output_type": "execute_result"
    }
   ],
   "source": [
    "# visão geral do dataset\n",
    "df.head()"
   ]
  },
  {
   "cell_type": "code",
   "execution_count": 4,
   "metadata": {},
   "outputs": [
    {
     "data": {
      "text/plain": [
       "(362447, 102)"
      ]
     },
     "execution_count": 4,
     "metadata": {},
     "output_type": "execute_result"
    }
   ],
   "source": [
    "# dimensões do dataset\n",
    "df.shape"
   ]
  },
  {
   "cell_type": "markdown",
   "metadata": {},
   "source": [
    "### Apenas para facilitar a atividade, cosidere as 30 primeiras colunas e descarte as restantes"
   ]
  },
  {
   "cell_type": "code",
   "execution_count": 6,
   "metadata": {},
   "outputs": [],
   "source": [
    "df = df.iloc[:, 0:30]"
   ]
  },
  {
   "cell_type": "code",
   "execution_count": 7,
   "metadata": {},
   "outputs": [
    {
     "data": {
      "text/plain": [
       "(362447, 30)"
      ]
     },
     "execution_count": 7,
     "metadata": {},
     "output_type": "execute_result"
    }
   ],
   "source": [
    "df.shape"
   ]
  },
  {
   "cell_type": "markdown",
   "metadata": {},
   "source": [
    "### Valores faltantes  (Missing Values)\n",
    "\n",
    "Não é incomum que um objeto não tenha um ou mais valores de atributos. Em alguns casos, as informações não foram coletadas; enquanto em outros casos, alguns atributos são inaplicáveis às instâncias de dados. E"
   ]
  },
  {
   "cell_type": "markdown",
   "metadata": {},
   "source": [
    "### 1 - Verique a quantidade de valores faltantes de cada atributo. Descarte as colunas que tem uma quantidade de valores faltantes maior que 10% do tamanho do conjunto de dados."
   ]
  },
  {
   "cell_type": "code",
   "execution_count": 7,
   "metadata": {},
   "outputs": [
    {
     "data": {
      "text/plain": [
       "Date                  0\n",
       "GameID                0\n",
       "Drive                 0\n",
       "qtr                   0\n",
       "down              54218\n",
       "time                188\n",
       "TimeUnder             0\n",
       "TimeSecs            188\n",
       "PlayTimeDiff        374\n",
       "SideofField         450\n",
       "yrdln               723\n",
       "yrdline100          723\n",
       "ydstogo               0\n",
       "ydsnet                0\n",
       "GoalToGo            723\n",
       "FirstDown         25597\n",
       "posteam           21979\n",
       "DefensiveTeam     21979\n",
       "desc                  2\n",
       "PlayAttempted         0\n",
       "Yards.Gained          0\n",
       "sp                    0\n",
       "Touchdown             0\n",
       "ExPointResult    353399\n",
       "TwoPointConv     361919\n",
       "DefTwoPoint      362433\n",
       "Safety                0\n",
       "Onsidekick            0\n",
       "PuntResult       342560\n",
       "PlayType              0\n",
       "dtype: int64"
      ]
     },
     "execution_count": 7,
     "metadata": {},
     "output_type": "execute_result"
    }
   ],
   "source": [
    "# retorna a quantidade de valores faltantes para cada feature\n",
    "df.isnull().sum()"
   ]
  },
  {
   "cell_type": "code",
   "execution_count": 8,
   "metadata": {},
   "outputs": [],
   "source": [
    "# vai retonar uma série de valore booleanos\n",
    "# True se a feature tem mais de 10% dos seus valores nulos, False, caso a porcentagem de valores faltantes seja inferior a 10%\n",
    "\n",
    "lista_faltantes = df.isnull().sum() > (df.shape[0] * 0.1)"
   ]
  },
  {
   "cell_type": "code",
   "execution_count": 9,
   "metadata": {},
   "outputs": [
    {
     "data": {
      "text/plain": [
       "Date             False\n",
       "GameID           False\n",
       "Drive            False\n",
       "qtr              False\n",
       "down              True\n",
       "time             False\n",
       "TimeUnder        False\n",
       "TimeSecs         False\n",
       "PlayTimeDiff     False\n",
       "SideofField      False\n",
       "yrdln            False\n",
       "yrdline100       False\n",
       "ydstogo          False\n",
       "ydsnet           False\n",
       "GoalToGo         False\n",
       "FirstDown        False\n",
       "posteam          False\n",
       "DefensiveTeam    False\n",
       "desc             False\n",
       "PlayAttempted    False\n",
       "Yards.Gained     False\n",
       "sp               False\n",
       "Touchdown        False\n",
       "ExPointResult     True\n",
       "TwoPointConv      True\n",
       "DefTwoPoint       True\n",
       "Safety           False\n",
       "Onsidekick       False\n",
       "PuntResult        True\n",
       "PlayType         False\n",
       "dtype: bool"
      ]
     },
     "execution_count": 9,
     "metadata": {},
     "output_type": "execute_result"
    }
   ],
   "source": [
    "lista_faltantes"
   ]
  },
  {
   "cell_type": "code",
   "execution_count": 11,
   "metadata": {},
   "outputs": [],
   "source": [
    "df = df.loc[:, ~lista_faltantes]"
   ]
  },
  {
   "cell_type": "code",
   "execution_count": 12,
   "metadata": {},
   "outputs": [
    {
     "data": {
      "text/plain": [
       "(362447, 25)"
      ]
     },
     "execution_count": 12,
     "metadata": {},
     "output_type": "execute_result"
    }
   ],
   "source": [
    "# 5 colunas foram descartadas\n",
    "df.shape"
   ]
  },
  {
   "cell_type": "markdown",
   "metadata": {},
   "source": [
    "### 2 - Substitua os valores ausentes da coluna 'FirstDown\"  pelo valor mediano na coluna. Apresente um histograma com distribuição dos valores da coluna antes e depois da substituição."
   ]
  },
  {
   "cell_type": "code",
   "execution_count": 13,
   "metadata": {},
   "outputs": [
    {
     "data": {
      "text/plain": [
       "0.0    238765\n",
       "1.0     98085\n",
       "Name: FirstDown, dtype: int64"
      ]
     },
     "execution_count": 13,
     "metadata": {},
     "output_type": "execute_result"
    }
   ],
   "source": [
    "# retorna a contagem dos valores presentes em 'FirstDown'\n",
    "df['FirstDown'].value_counts()"
   ]
  },
  {
   "cell_type": "code",
   "execution_count": 14,
   "metadata": {},
   "outputs": [
    {
     "data": {
      "text/plain": [
       "25597"
      ]
     },
     "execution_count": 14,
     "metadata": {},
     "output_type": "execute_result"
    }
   ],
   "source": [
    "# verifico a quantidade de valores faltantes na coluna\n",
    "df['FirstDown'].isnull().sum()"
   ]
  },
  {
   "cell_type": "code",
   "execution_count": 15,
   "metadata": {},
   "outputs": [
    {
     "name": "stderr",
     "output_type": "stream",
     "text": [
      "/home/jeronimojr/anaconda3/lib/python3.7/site-packages/numpy/lib/histograms.py:839: RuntimeWarning: invalid value encountered in greater_equal\n",
      "  keep = (tmp_a >= first_edge)\n",
      "/home/jeronimojr/anaconda3/lib/python3.7/site-packages/numpy/lib/histograms.py:840: RuntimeWarning: invalid value encountered in less_equal\n",
      "  keep &= (tmp_a <= last_edge)\n"
     ]
    },
    {
     "data": {
      "image/png": "[encoded data removed]",
      "text/plain": [
       "<Figure size 864x432 with 1 Axes>"
      ]
     },
     "metadata": {
      "needs_background": "light"
     },
     "output_type": "display_data"
    }
   ],
   "source": [
    "# plot antes de remover os valores faltantes\n",
    "plt.figure(figsize=(12, 6))\n",
    "plt.hist(x='FirstDown',data=df);"
   ]
  },
  {
   "cell_type": "code",
   "execution_count": 16,
   "metadata": {},
   "outputs": [],
   "source": [
    "# substituo os valores faltantes pelo valor da mediana\n",
    "df['FirstDown'].fillna(df['FirstDown'].median(), inplace=True)"
   ]
  },
  {
   "cell_type": "code",
   "execution_count": 17,
   "metadata": {},
   "outputs": [
    {
     "data": {
      "text/plain": [
       "0"
      ]
     },
     "execution_count": 17,
     "metadata": {},
     "output_type": "execute_result"
    }
   ],
   "source": [
    "# verifico novamente a quantidade de valores faltantes\n",
    "df['FirstDown'].isnull().sum()"
   ]
  },
  {
   "cell_type": "code",
   "execution_count": 18,
   "metadata": {},
   "outputs": [
    {
     "data": {
      "image/png": "[encoded data removed]",
      "text/plain": [
       "<Figure size 864x432 with 1 Axes>"
      ]
     },
     "metadata": {
      "needs_background": "light"
     },
     "output_type": "display_data"
    }
   ],
   "source": [
    "# plot depois da substituição dos valores faltantes pela mediana\n",
    "plt.figure(figsize=(12, 6))\n",
    "plt.hist(x='FirstDown',data=df);"
   ]
  },
  {
   "cell_type": "markdown",
   "metadata": {},
   "source": [
    "### 3 - Substitua os valores ausentes na coluna \"TimeSecs\"  pelo valor médio da coluna. Apresente um histograma com distribuição dos valores da coluna antes e depois da substituição.\n"
   ]
  },
  {
   "cell_type": "code",
   "execution_count": 19,
   "metadata": {},
   "outputs": [
    {
     "data": {
      "text/plain": [
       "1695.2343461446092"
      ]
     },
     "execution_count": 19,
     "metadata": {},
     "output_type": "execute_result"
    }
   ],
   "source": [
    "# valor médio da coluna TimeSecs\n",
    "df['TimeSecs'].mean()"
   ]
  },
  {
   "cell_type": "code",
   "execution_count": 20,
   "metadata": {},
   "outputs": [
    {
     "data": {
      "text/plain": [
       " 1800.0    4129\n",
       " 900.0     3775\n",
       " 2700.0    3514\n",
       " 120.0     3058\n",
       " 3600.0    3012\n",
       "           ... \n",
       "-268.0        1\n",
       "-892.0        1\n",
       "-485.0        1\n",
       "-659.0        1\n",
       "-20.0         1\n",
       "Name: TimeSecs, Length: 4329, dtype: int64"
      ]
     },
     "execution_count": 20,
     "metadata": {},
     "output_type": "execute_result"
    }
   ],
   "source": [
    "# distribuição dos dados\n",
    "df['TimeSecs'].value_counts()"
   ]
  },
  {
   "cell_type": "code",
   "execution_count": 21,
   "metadata": {},
   "outputs": [
    {
     "data": {
      "text/plain": [
       "188"
      ]
     },
     "execution_count": 21,
     "metadata": {},
     "output_type": "execute_result"
    }
   ],
   "source": [
    "# verifico a quantidade de valores faltantes na coluna\n",
    "df['TimeSecs'].isnull().sum()"
   ]
  },
  {
   "cell_type": "code",
   "execution_count": 22,
   "metadata": {},
   "outputs": [
    {
     "data": {
      "image/png": "[encoded data removed]",
      "text/plain": [
       "<Figure size 864x432 with 1 Axes>"
      ]
     },
     "metadata": {
      "needs_background": "light"
     },
     "output_type": "display_data"
    }
   ],
   "source": [
    "plt.figure(figsize=(12, 6))\n",
    "plt.hist(x='TimeSecs', data=df, bins=30);"
   ]
  },
  {
   "cell_type": "code",
   "execution_count": 23,
   "metadata": {},
   "outputs": [],
   "source": [
    "df['TimeSecs'].fillna(df['TimeSecs'].mean(), inplace=True)"
   ]
  },
  {
   "cell_type": "code",
   "execution_count": 24,
   "metadata": {},
   "outputs": [
    {
     "data": {
      "text/plain": [
       "0"
      ]
     },
     "execution_count": 24,
     "metadata": {},
     "output_type": "execute_result"
    }
   ],
   "source": [
    "df['TimeSecs'].isnull().sum()"
   ]
  },
  {
   "cell_type": "code",
   "execution_count": 25,
   "metadata": {},
   "outputs": [
    {
     "data": {
      "image/png": "[encoded data removed]",
      "text/plain": [
       "<Figure size 864x432 with 1 Axes>"
      ]
     },
     "metadata": {
      "needs_background": "light"
     },
     "output_type": "display_data"
    }
   ],
   "source": [
    "plt.figure(figsize=(12, 6))\n",
    "plt.hist(x='TimeSecs', data=df, bins=30);"
   ]
  },
  {
   "cell_type": "code",
   "execution_count": 27,
   "metadata": {},
   "outputs": [
    {
     "data": {
      "text/plain": [
       "2412"
      ]
     },
     "execution_count": 27,
     "metadata": {},
     "output_type": "execute_result"
    }
   ],
   "source": [
    "(df['TimeSecs'] < 0).sum()"
   ]
  },
  {
   "cell_type": "markdown",
   "metadata": {},
   "source": [
    "### 4 - Em vez de substituir os valores ausentes, outra abordagem comum é descartar os pontos de dados que contêm valores ausentes. Isso pode ser feito facilmente aplicando a função dropna(). Execute essa abordagem e exiba o número de linhas antes e depois desse tratamento. O ideal é que esse método seja aplicado apenas a atributos que tenham poucos valores faltantes.\n"
   ]
  },
  {
   "cell_type": "code",
   "execution_count": 28,
   "metadata": {},
   "outputs": [
    {
     "data": {
      "text/plain": [
       "362447"
      ]
     },
     "execution_count": 28,
     "metadata": {},
     "output_type": "execute_result"
    }
   ],
   "source": [
    "# Número de linhas antes da remoção\n",
    "df.shape[0]"
   ]
  },
  {
   "cell_type": "code",
   "execution_count": 29,
   "metadata": {},
   "outputs": [
    {
     "data": {
      "text/plain": [
       "Date             False\n",
       "GameID           False\n",
       "Drive            False\n",
       "qtr              False\n",
       "time              True\n",
       "TimeUnder        False\n",
       "TimeSecs         False\n",
       "PlayTimeDiff      True\n",
       "SideofField       True\n",
       "yrdln             True\n",
       "yrdline100        True\n",
       "ydstogo          False\n",
       "ydsnet           False\n",
       "GoalToGo          True\n",
       "FirstDown        False\n",
       "posteam          False\n",
       "DefensiveTeam    False\n",
       "desc              True\n",
       "PlayAttempted    False\n",
       "Yards.Gained     False\n",
       "sp               False\n",
       "Touchdown        False\n",
       "Safety           False\n",
       "Onsidekick       False\n",
       "PlayType         False\n",
       "dtype: bool"
      ]
     },
     "execution_count": 29,
     "metadata": {},
     "output_type": "execute_result"
    }
   ],
   "source": [
    "df.isnull().sum().between(1, 1000)"
   ]
  },
  {
   "cell_type": "code",
   "execution_count": 30,
   "metadata": {},
   "outputs": [],
   "source": [
    "colunas_para_descarte = df.loc[:,df.isnull().sum().between(1, 1000)].columns"
   ]
  },
  {
   "cell_type": "code",
   "execution_count": 32,
   "metadata": {
    "scrolled": true
   },
   "outputs": [
    {
     "data": {
      "text/plain": [
       "Index(['time', 'PlayTimeDiff', 'SideofField', 'yrdln', 'yrdline100',\n",
       "       'GoalToGo', 'desc'],\n",
       "      dtype='object')"
      ]
     },
     "execution_count": 32,
     "metadata": {},
     "output_type": "execute_result"
    }
   ],
   "source": [
    "colunas_para_descarte"
   ]
  },
  {
   "cell_type": "code",
   "execution_count": 34,
   "metadata": {},
   "outputs": [
    {
     "name": "stdout",
     "output_type": "stream",
     "text": [
      "<class 'pandas.core.frame.DataFrame'>\n",
      "RangeIndex: 362447 entries, 0 to 362446\n",
      "Data columns (total 25 columns):\n",
      " #   Column         Non-Null Count   Dtype  \n",
      "---  ------         --------------   -----  \n",
      " 0   Date           362447 non-null  object \n",
      " 1   GameID         362447 non-null  int64  \n",
      " 2   Drive          362447 non-null  int64  \n",
      " 3   qtr            362447 non-null  int64  \n",
      " 4   time           362259 non-null  object \n",
      " 5   TimeUnder      362447 non-null  int64  \n",
      " 6   TimeSecs       362447 non-null  float64\n",
      " 7   PlayTimeDiff   362073 non-null  float64\n",
      " 8   SideofField    361997 non-null  object \n",
      " 9   yrdln          361724 non-null  float64\n",
      " 10  yrdline100     361724 non-null  float64\n",
      " 11  ydstogo        362447 non-null  int64  \n",
      " 12  ydsnet         362447 non-null  int64  \n",
      " 13  GoalToGo       361724 non-null  float64\n",
      " 14  FirstDown      362447 non-null  float64\n",
      " 15  posteam        340468 non-null  object \n",
      " 16  DefensiveTeam  340468 non-null  object \n",
      " 17  desc           362445 non-null  object \n",
      " 18  PlayAttempted  362447 non-null  int64  \n",
      " 19  Yards.Gained   362447 non-null  int64  \n",
      " 20  sp             362447 non-null  int64  \n",
      " 21  Touchdown      362447 non-null  int64  \n",
      " 22  Safety         362447 non-null  int64  \n",
      " 23  Onsidekick     362447 non-null  int64  \n",
      " 24  PlayType       362447 non-null  object \n",
      "dtypes: float64(6), int64(12), object(7)\n",
      "memory usage: 69.1+ MB\n"
     ]
    }
   ],
   "source": [
    "df.info()"
   ]
  },
  {
   "cell_type": "code",
   "execution_count": 37,
   "metadata": {},
   "outputs": [
    {
     "data": {
      "text/plain": [
       "count       25.000000\n",
       "mean      1885.640000\n",
       "std       6052.574651\n",
       "min          0.000000\n",
       "50%          0.000000\n",
       "80%        504.600000\n",
       "90%        723.000000\n",
       "95%      17727.800000\n",
       "max      21979.000000\n",
       "dtype: float64"
      ]
     },
     "execution_count": 37,
     "metadata": {},
     "output_type": "execute_result"
    }
   ],
   "source": [
    "df.isnull().sum().describe([0.8, 0.9, 0.95])"
   ]
  },
  {
   "cell_type": "code",
   "execution_count": 38,
   "metadata": {},
   "outputs": [],
   "source": [
    "df = df.dropna(subset=colunas_para_descarte)"
   ]
  },
  {
   "cell_type": "code",
   "execution_count": 39,
   "metadata": {},
   "outputs": [
    {
     "data": {
      "text/plain": [
       "361526"
      ]
     },
     "execution_count": 39,
     "metadata": {},
     "output_type": "execute_result"
    }
   ],
   "source": [
    "df.shape[0]"
   ]
  },
  {
   "cell_type": "markdown",
   "metadata": {},
   "source": [
    "### Outliers (Ruídos)\n",
    "\n",
    "Os outliers são instâncias de dados com características consideravelmente diferentes do restante do conjunto de dados. "
   ]
  },
  {
   "cell_type": "markdown",
   "metadata": {},
   "source": [
    "### 5 -  Utilizabdo a matplotlib, apressente um boxplot para identificar as colunas na tabela que contêm outliers. Observe que os valores em todas as colunas que são originalmente armazenados como 'int64', com exceção do GameID."
   ]
  },
  {
   "cell_type": "code",
   "execution_count": 41,
   "metadata": {},
   "outputs": [
    {
     "data": {
      "text/plain": [
       "Date              object\n",
       "GameID             int64\n",
       "Drive              int64\n",
       "qtr                int64\n",
       "time              object\n",
       "TimeUnder          int64\n",
       "TimeSecs         float64\n",
       "PlayTimeDiff     float64\n",
       "SideofField       object\n",
       "yrdln            float64\n",
       "yrdline100       float64\n",
       "ydstogo            int64\n",
       "ydsnet             int64\n",
       "GoalToGo         float64\n",
       "FirstDown        float64\n",
       "posteam           object\n",
       "DefensiveTeam     object\n",
       "desc              object\n",
       "PlayAttempted      int64\n",
       "Yards.Gained       int64\n",
       "sp                 int64\n",
       "Touchdown          int64\n",
       "Safety             int64\n",
       "Onsidekick         int64\n",
       "PlayType          object\n",
       "dtype: object"
      ]
     },
     "execution_count": 41,
     "metadata": {},
     "output_type": "execute_result"
    }
   ],
   "source": [
    "df.dtypes"
   ]
  },
  {
   "cell_type": "code",
   "execution_count": 50,
   "metadata": {},
   "outputs": [],
   "source": [
    "# 'TimeSecs'\n",
    "col_plt = ['Drive','qtr','TimeUnder','TimeSecs','PlayTimeDiff','yrdln','yrdline100','ydstogo','ydsnet','GoalToGo','FirstDown','PlayAttempted','Yards.Gained', 'sp' ,'Touchdown','Safety','Onsidekick']"
   ]
  },
  {
   "cell_type": "code",
   "execution_count": 47,
   "metadata": {},
   "outputs": [
    {
     "data": {
      "text/plain": [
       "count    361526.000000\n",
       "mean       1696.365813\n",
       "std        1062.936227\n",
       "min        -900.000000\n",
       "25%         779.000000\n",
       "50%        1800.000000\n",
       "75%        2586.000000\n",
       "max        3600.000000\n",
       "Name: TimeSecs, dtype: float64"
      ]
     },
     "execution_count": 47,
     "metadata": {},
     "output_type": "execute_result"
    }
   ],
   "source": [
    "df['TimeSecs'].describe()"
   ]
  },
  {
   "cell_type": "code",
   "execution_count": 43,
   "metadata": {},
   "outputs": [
    {
     "data": {
      "image/png": "[encoded data removed]",
      "text/plain": [
       "<Figure size 864x432 with 1 Axes>"
      ]
     },
     "metadata": {
      "needs_background": "light"
     },
     "output_type": "display_data"
    }
   ],
   "source": [
    "df[col_plt[3:4]].boxplot(figsize=(12,6));"
   ]
  },
  {
   "cell_type": "code",
   "execution_count": 46,
   "metadata": {},
   "outputs": [
    {
     "data": {
      "image/png": "[encoded data removed]",
      "text/plain": [
       "<Figure size 1440x432 with 1 Axes>"
      ]
     },
     "metadata": {
      "needs_background": "light"
     },
     "output_type": "display_data"
    }
   ],
   "source": [
    "df[col_plt[0:]].boxplot(figsize=(20,6));"
   ]
  },
  {
   "cell_type": "code",
   "execution_count": 49,
   "metadata": {},
   "outputs": [
    {
     "data": {
      "image/png": "[encoded data removed]",
      "text/plain": [
       "<Figure size 864x432 with 1 Axes>"
      ]
     },
     "metadata": {
      "needs_background": "light"
     },
     "output_type": "display_data"
    }
   ],
   "source": [
    "df[col_plt[8:]].boxplot(figsize=(12,6));"
   ]
  },
  {
   "cell_type": "markdown",
   "metadata": {},
   "source": [
    "### 7- Os boxplots devem sugerir ccolunas que contêm valores anormalmente altos. Para descartar os outliers, podemos calcular a pontuação Z para cada atributo e remover as instâncias que contêm atributos com pontuação Z anormalmente alta ou baixa (por exemplo, se Z > 3 ou Z <= -3).\n",
    "A pontuação Z é dada por Z=(X-Xmedio)/std, ou seja, o valor de cada atributo vai ser substitui por ele menos a média da coluna, dividido pelo desvio padrão da coluna. \n",
    "Observe que os valores omissos (NaN) não são afetados pelo processo de padronização."
   ]
  },
  {
   "cell_type": "code",
   "execution_count": 51,
   "metadata": {},
   "outputs": [],
   "source": [
    "# apliquei o z-escore vetorialmente \n",
    "Z = (df[col_plt] - df[col_plt].mean())/df[col_plt].std()"
   ]
  },
  {
   "cell_type": "code",
   "execution_count": 52,
   "metadata": {},
   "outputs": [
    {
     "data": {
      "text/html": [
       "<div>\n",
       "<style scoped>\n",
       "    .dataframe tbody tr th:only-of-type {\n",
       "        vertical-align: middle;\n",
       "    }\n",
       "\n",
       "    .dataframe tbody tr th {\n",
       "        vertical-align: top;\n",
       "    }\n",
       "\n",
       "    .dataframe thead th {\n",
       "        text-align: right;\n",
       "    }\n",
       "</style>\n",
       "<table border=\"1\" class=\"dataframe\">\n",
       "  <thead>\n",
       "    <tr style=\"text-align: right;\">\n",
       "      <th></th>\n",
       "      <th>Drive</th>\n",
       "      <th>qtr</th>\n",
       "      <th>TimeUnder</th>\n",
       "      <th>TimeSecs</th>\n",
       "      <th>PlayTimeDiff</th>\n",
       "      <th>yrdln</th>\n",
       "      <th>yrdline100</th>\n",
       "      <th>ydstogo</th>\n",
       "      <th>ydsnet</th>\n",
       "      <th>GoalToGo</th>\n",
       "      <th>FirstDown</th>\n",
       "      <th>PlayAttempted</th>\n",
       "      <th>Yards.Gained</th>\n",
       "      <th>sp</th>\n",
       "      <th>Touchdown</th>\n",
       "      <th>Safety</th>\n",
       "      <th>Onsidekick</th>\n",
       "    </tr>\n",
       "  </thead>\n",
       "  <tbody>\n",
       "    <tr>\n",
       "      <th>0</th>\n",
       "      <td>-1.582079</td>\n",
       "      <td>-1.395727</td>\n",
       "      <td>1.638820</td>\n",
       "      <td>1.790920</td>\n",
       "      <td>-1.142046</td>\n",
       "      <td>0.122065</td>\n",
       "      <td>-0.740206</td>\n",
       "      <td>-1.508207</td>\n",
       "      <td>-1.042081</td>\n",
       "      <td>-0.228074</td>\n",
       "      <td>-0.610173</td>\n",
       "      <td>NaN</td>\n",
       "      <td>3.709621</td>\n",
       "      <td>-0.279281</td>\n",
       "      <td>-0.173553</td>\n",
       "      <td>-0.019823</td>\n",
       "      <td>-0.037065</td>\n",
       "    </tr>\n",
       "    <tr>\n",
       "      <th>1</th>\n",
       "      <td>-1.582079</td>\n",
       "      <td>-1.395727</td>\n",
       "      <td>1.638820</td>\n",
       "      <td>1.784335</td>\n",
       "      <td>-0.753818</td>\n",
       "      <td>1.044937</td>\n",
       "      <td>0.372522</td>\n",
       "      <td>0.551207</td>\n",
       "      <td>-0.840989</td>\n",
       "      <td>-0.228074</td>\n",
       "      <td>-0.610173</td>\n",
       "      <td>NaN</td>\n",
       "      <td>-0.005158</td>\n",
       "      <td>-0.279281</td>\n",
       "      <td>-0.173553</td>\n",
       "      <td>-0.019823</td>\n",
       "      <td>-0.037065</td>\n",
       "    </tr>\n",
       "    <tr>\n",
       "      <th>2</th>\n",
       "      <td>-1.582079</td>\n",
       "      <td>-1.395727</td>\n",
       "      <td>1.638820</td>\n",
       "      <td>1.749526</td>\n",
       "      <td>0.910015</td>\n",
       "      <td>1.429466</td>\n",
       "      <td>0.173820</td>\n",
       "      <td>-0.478500</td>\n",
       "      <td>-0.961644</td>\n",
       "      <td>-0.228074</td>\n",
       "      <td>-0.610173</td>\n",
       "      <td>NaN</td>\n",
       "      <td>-0.879223</td>\n",
       "      <td>-0.279281</td>\n",
       "      <td>-0.173553</td>\n",
       "      <td>-0.019823</td>\n",
       "      <td>-0.037065</td>\n",
       "    </tr>\n",
       "    <tr>\n",
       "      <th>3</th>\n",
       "      <td>-1.582079</td>\n",
       "      <td>-1.395727</td>\n",
       "      <td>1.423190</td>\n",
       "      <td>1.710953</td>\n",
       "      <td>1.131859</td>\n",
       "      <td>1.198749</td>\n",
       "      <td>0.293041</td>\n",
       "      <td>0.139324</td>\n",
       "      <td>-0.961644</td>\n",
       "      <td>-0.228074</td>\n",
       "      <td>-0.610173</td>\n",
       "      <td>NaN</td>\n",
       "      <td>-0.551449</td>\n",
       "      <td>-0.279281</td>\n",
       "      <td>-0.173553</td>\n",
       "      <td>-0.019823</td>\n",
       "      <td>-0.037065</td>\n",
       "    </tr>\n",
       "    <tr>\n",
       "      <th>4</th>\n",
       "      <td>-1.582079</td>\n",
       "      <td>-1.395727</td>\n",
       "      <td>1.423190</td>\n",
       "      <td>1.703427</td>\n",
       "      <td>-0.698357</td>\n",
       "      <td>1.198749</td>\n",
       "      <td>0.293041</td>\n",
       "      <td>0.139324</td>\n",
       "      <td>-0.961644</td>\n",
       "      <td>-0.228074</td>\n",
       "      <td>1.638875</td>\n",
       "      <td>NaN</td>\n",
       "      <td>-0.551449</td>\n",
       "      <td>-0.279281</td>\n",
       "      <td>-0.173553</td>\n",
       "      <td>-0.019823</td>\n",
       "      <td>-0.037065</td>\n",
       "    </tr>\n",
       "    <tr>\n",
       "      <th>...</th>\n",
       "      <td>...</td>\n",
       "      <td>...</td>\n",
       "      <td>...</td>\n",
       "      <td>...</td>\n",
       "      <td>...</td>\n",
       "      <td>...</td>\n",
       "      <td>...</td>\n",
       "      <td>...</td>\n",
       "      <td>...</td>\n",
       "      <td>...</td>\n",
       "      <td>...</td>\n",
       "      <td>...</td>\n",
       "      <td>...</td>\n",
       "      <td>...</td>\n",
       "      <td>...</td>\n",
       "      <td>...</td>\n",
       "      <td>...</td>\n",
       "    </tr>\n",
       "    <tr>\n",
       "      <th>362442</th>\n",
       "      <td>1.069140</td>\n",
       "      <td>1.258486</td>\n",
       "      <td>-1.380006</td>\n",
       "      <td>-1.575227</td>\n",
       "      <td>-0.809279</td>\n",
       "      <td>0.506595</td>\n",
       "      <td>-0.541505</td>\n",
       "      <td>0.551207</td>\n",
       "      <td>0.365561</td>\n",
       "      <td>-0.228074</td>\n",
       "      <td>-0.610173</td>\n",
       "      <td>NaN</td>\n",
       "      <td>3.272589</td>\n",
       "      <td>3.580618</td>\n",
       "      <td>5.761918</td>\n",
       "      <td>-0.019823</td>\n",
       "      <td>-0.037065</td>\n",
       "    </tr>\n",
       "    <tr>\n",
       "      <th>362443</th>\n",
       "      <td>1.069140</td>\n",
       "      <td>1.258486</td>\n",
       "      <td>-1.380006</td>\n",
       "      <td>-1.583694</td>\n",
       "      <td>-0.642896</td>\n",
       "      <td>-1.031524</td>\n",
       "      <td>-1.336310</td>\n",
       "      <td>-1.508207</td>\n",
       "      <td>0.365561</td>\n",
       "      <td>-0.228074</td>\n",
       "      <td>-0.610173</td>\n",
       "      <td>NaN</td>\n",
       "      <td>-0.551449</td>\n",
       "      <td>3.580618</td>\n",
       "      <td>-0.173553</td>\n",
       "      <td>-0.019823</td>\n",
       "      <td>-0.037065</td>\n",
       "    </tr>\n",
       "    <tr>\n",
       "      <th>362444</th>\n",
       "      <td>1.208678</td>\n",
       "      <td>1.258486</td>\n",
       "      <td>-1.380006</td>\n",
       "      <td>-1.583694</td>\n",
       "      <td>-1.142046</td>\n",
       "      <td>0.506595</td>\n",
       "      <td>-0.541505</td>\n",
       "      <td>-1.508207</td>\n",
       "      <td>-1.042081</td>\n",
       "      <td>-0.228074</td>\n",
       "      <td>-0.610173</td>\n",
       "      <td>NaN</td>\n",
       "      <td>-0.551449</td>\n",
       "      <td>-0.279281</td>\n",
       "      <td>-0.173553</td>\n",
       "      <td>-0.019823</td>\n",
       "      <td>26.979271</td>\n",
       "    </tr>\n",
       "    <tr>\n",
       "      <th>362445</th>\n",
       "      <td>1.208678</td>\n",
       "      <td>1.258486</td>\n",
       "      <td>-1.380006</td>\n",
       "      <td>-1.584635</td>\n",
       "      <td>-1.086585</td>\n",
       "      <td>1.352560</td>\n",
       "      <td>-0.104362</td>\n",
       "      <td>0.551207</td>\n",
       "      <td>-1.082299</td>\n",
       "      <td>-0.228074</td>\n",
       "      <td>-0.610173</td>\n",
       "      <td>NaN</td>\n",
       "      <td>-0.660707</td>\n",
       "      <td>-0.279281</td>\n",
       "      <td>-0.173553</td>\n",
       "      <td>-0.019823</td>\n",
       "      <td>-0.037065</td>\n",
       "    </tr>\n",
       "    <tr>\n",
       "      <th>362446</th>\n",
       "      <td>1.208678</td>\n",
       "      <td>1.258486</td>\n",
       "      <td>-1.595636</td>\n",
       "      <td>-1.595924</td>\n",
       "      <td>-0.476513</td>\n",
       "      <td>1.352560</td>\n",
       "      <td>-0.104362</td>\n",
       "      <td>-1.508207</td>\n",
       "      <td>-1.082299</td>\n",
       "      <td>-0.228074</td>\n",
       "      <td>-0.610173</td>\n",
       "      <td>NaN</td>\n",
       "      <td>-0.551449</td>\n",
       "      <td>-0.279281</td>\n",
       "      <td>-0.173553</td>\n",
       "      <td>-0.019823</td>\n",
       "      <td>-0.037065</td>\n",
       "    </tr>\n",
       "  </tbody>\n",
       "</table>\n",
       "<p>361526 rows × 17 columns</p>\n",
       "</div>"
      ],
      "text/plain": [
       "           Drive       qtr  TimeUnder  TimeSecs  PlayTimeDiff     yrdln  \\\n",
       "0      -1.582079 -1.395727   1.638820  1.790920     -1.142046  0.122065   \n",
       "1      -1.582079 -1.395727   1.638820  1.784335     -0.753818  1.044937   \n",
       "2      -1.582079 -1.395727   1.638820  1.749526      0.910015  1.429466   \n",
       "3      -1.582079 -1.395727   1.423190  1.710953      1.131859  1.198749   \n",
       "4      -1.582079 -1.395727   1.423190  1.703427     -0.698357  1.198749   \n",
       "...          ...       ...        ...       ...           ...       ...   \n",
       "362442  1.069140  1.258486  -1.380006 -1.575227     -0.809279  0.506595   \n",
       "362443  1.069140  1.258486  -1.380006 -1.583694     -0.642896 -1.031524   \n",
       "362444  1.208678  1.258486  -1.380006 -1.583694     -1.142046  0.506595   \n",
       "362445  1.208678  1.258486  -1.380006 -1.584635     -1.086585  1.352560   \n",
       "362446  1.208678  1.258486  -1.595636 -1.595924     -0.476513  1.352560   \n",
       "\n",
       "        yrdline100   ydstogo    ydsnet  GoalToGo  FirstDown  PlayAttempted  \\\n",
       "0        -0.740206 -1.508207 -1.042081 -0.228074  -0.610173            NaN   \n",
       "1         0.372522  0.551207 -0.840989 -0.228074  -0.610173            NaN   \n",
       "2         0.173820 -0.478500 -0.961644 -0.228074  -0.610173            NaN   \n",
       "3         0.293041  0.139324 -0.961644 -0.228074  -0.610173            NaN   \n",
       "4         0.293041  0.139324 -0.961644 -0.228074   1.638875            NaN   \n",
       "...            ...       ...       ...       ...        ...            ...   \n",
       "362442   -0.541505  0.551207  0.365561 -0.228074  -0.610173            NaN   \n",
       "362443   -1.336310 -1.508207  0.365561 -0.228074  -0.610173            NaN   \n",
       "362444   -0.541505 -1.508207 -1.042081 -0.228074  -0.610173            NaN   \n",
       "362445   -0.104362  0.551207 -1.082299 -0.228074  -0.610173            NaN   \n",
       "362446   -0.104362 -1.508207 -1.082299 -0.228074  -0.610173            NaN   \n",
       "\n",
       "        Yards.Gained        sp  Touchdown    Safety  Onsidekick  \n",
       "0           3.709621 -0.279281  -0.173553 -0.019823   -0.037065  \n",
       "1          -0.005158 -0.279281  -0.173553 -0.019823   -0.037065  \n",
       "2          -0.879223 -0.279281  -0.173553 -0.019823   -0.037065  \n",
       "3          -0.551449 -0.279281  -0.173553 -0.019823   -0.037065  \n",
       "4          -0.551449 -0.279281  -0.173553 -0.019823   -0.037065  \n",
       "...              ...       ...        ...       ...         ...  \n",
       "362442      3.272589  3.580618   5.761918 -0.019823   -0.037065  \n",
       "362443     -0.551449  3.580618  -0.173553 -0.019823   -0.037065  \n",
       "362444     -0.551449 -0.279281  -0.173553 -0.019823   26.979271  \n",
       "362445     -0.660707 -0.279281  -0.173553 -0.019823   -0.037065  \n",
       "362446     -0.551449 -0.279281  -0.173553 -0.019823   -0.037065  \n",
       "\n",
       "[361526 rows x 17 columns]"
      ]
     },
     "execution_count": 52,
     "metadata": {},
     "output_type": "execute_result"
    }
   ],
   "source": [
    "Z"
   ]
  },
  {
   "cell_type": "markdown",
   "metadata": {},
   "source": [
    "### 8 - Descarte colunas com Z> 3 ou Z <= -3."
   ]
  },
  {
   "cell_type": "code",
   "execution_count": 53,
   "metadata": {
    "scrolled": false
   },
   "outputs": [],
   "source": [
    "# se pelo menos um valor da instância for Z > 3 ou Z<=-3, removo essa instância\n",
    "df.drop(df.loc[((Z>3).sum(axis=1) + (Z<=-3).sum(axis=1)) >= 1 , col_plt].index, inplace=True)"
   ]
  },
  {
   "cell_type": "code",
   "execution_count": 48,
   "metadata": {},
   "outputs": [
    {
     "data": {
      "image/png": "[encoded data removed]",
      "text/plain": [
       "<Figure size 1440x432 with 1 Axes>"
      ]
     },
     "metadata": {
      "needs_background": "light"
     },
     "output_type": "display_data"
    }
   ],
   "source": [
    "df[col_plt[0:8]].boxplot(figsize=(20,6));"
   ]
  },
  {
   "cell_type": "code",
   "execution_count": 60,
   "metadata": {},
   "outputs": [
    {
     "data": {
      "image/png": "[encoded data removed]",
      "text/plain": [
       "<Figure size 1440x432 with 1 Axes>"
      ]
     },
     "metadata": {
      "needs_background": "light"
     },
     "output_type": "display_data"
    }
   ],
   "source": [
    "df[col_plt[4:5]].boxplot(figsize=(20,6));"
   ]
  },
  {
   "cell_type": "code",
   "execution_count": 45,
   "metadata": {},
   "outputs": [
    {
     "data": {
      "text/plain": [
       "(315074, 25)"
      ]
     },
     "execution_count": 45,
     "metadata": {},
     "output_type": "execute_result"
    }
   ],
   "source": [
    "df.shape"
   ]
  },
  {
   "cell_type": "markdown",
   "metadata": {},
   "source": [
    "## Agregação\n",
    "\n",
    "A agregação de dados é uma tarefa de pré-processamento em que os valores de dois ou mais objetos são combinados em um único objeto. A motivação para agregação inclui (1) reduzir o tamanho dos dados a serem processados, (2) alterar a granularidade da análise (de escala fina para escala mais grosseira) e (3) melhorar a estabilidade dos dados.\n",
    "\n",
    "Agora utilize os dados da série temporal de precipitação diária para uma estação meteorológica localizada no Detroit Metro Airport (arquivo 'DTW_prec.csv'). Os dados brutos foram obtidos do site Climate Data Online (https://www.ncdc.noaa.gov/cdo-web/). A série temporal de precipitação diária será comparada com os valores mensais.\n"
   ]
  },
  {
   "cell_type": "markdown",
   "metadata": {},
   "source": [
    "### Carregue os dados da série temporal de precipitação"
   ]
  },
  {
   "cell_type": "code",
   "execution_count": 61,
   "metadata": {},
   "outputs": [],
   "source": [
    "df_prec = pd.read_csv('DTW_prec.csv')"
   ]
  },
  {
   "cell_type": "code",
   "execution_count": 62,
   "metadata": {},
   "outputs": [
    {
     "data": {
      "text/html": [
       "<div>\n",
       "<style scoped>\n",
       "    .dataframe tbody tr th:only-of-type {\n",
       "        vertical-align: middle;\n",
       "    }\n",
       "\n",
       "    .dataframe tbody tr th {\n",
       "        vertical-align: top;\n",
       "    }\n",
       "\n",
       "    .dataframe thead th {\n",
       "        text-align: right;\n",
       "    }\n",
       "</style>\n",
       "<table border=\"1\" class=\"dataframe\">\n",
       "  <thead>\n",
       "    <tr style=\"text-align: right;\">\n",
       "      <th></th>\n",
       "      <th>DATE</th>\n",
       "      <th>PRCP</th>\n",
       "    </tr>\n",
       "  </thead>\n",
       "  <tbody>\n",
       "    <tr>\n",
       "      <th>0</th>\n",
       "      <td>1/1/2001</td>\n",
       "      <td>0.00</td>\n",
       "    </tr>\n",
       "    <tr>\n",
       "      <th>1</th>\n",
       "      <td>1/2/2001</td>\n",
       "      <td>0.00</td>\n",
       "    </tr>\n",
       "    <tr>\n",
       "      <th>2</th>\n",
       "      <td>1/3/2001</td>\n",
       "      <td>0.00</td>\n",
       "    </tr>\n",
       "    <tr>\n",
       "      <th>3</th>\n",
       "      <td>1/4/2001</td>\n",
       "      <td>0.04</td>\n",
       "    </tr>\n",
       "    <tr>\n",
       "      <th>4</th>\n",
       "      <td>1/5/2001</td>\n",
       "      <td>0.14</td>\n",
       "    </tr>\n",
       "  </tbody>\n",
       "</table>\n",
       "</div>"
      ],
      "text/plain": [
       "       DATE  PRCP\n",
       "0  1/1/2001  0.00\n",
       "1  1/2/2001  0.00\n",
       "2  1/3/2001  0.00\n",
       "3  1/4/2001  0.04\n",
       "4  1/5/2001  0.14"
      ]
     },
     "execution_count": 62,
     "metadata": {},
     "output_type": "execute_result"
    }
   ],
   "source": [
    "df_prec.head()"
   ]
  },
  {
   "cell_type": "code",
   "execution_count": 63,
   "metadata": {},
   "outputs": [
    {
     "data": {
      "text/plain": [
       "(6191, 2)"
      ]
     },
     "execution_count": 63,
     "metadata": {},
     "output_type": "execute_result"
    }
   ],
   "source": [
    "df_prec.shape"
   ]
  },
  {
   "cell_type": "code",
   "execution_count": 64,
   "metadata": {},
   "outputs": [
    {
     "data": {
      "text/plain": [
       "DATE     object\n",
       "PRCP    float64\n",
       "dtype: object"
      ]
     },
     "execution_count": 64,
     "metadata": {},
     "output_type": "execute_result"
    }
   ],
   "source": [
    "df_prec.dtypes"
   ]
  },
  {
   "cell_type": "markdown",
   "metadata": {},
   "source": [
    "### 9 - Desenhe um gráfico de linha das séries temporais diárias."
   ]
  },
  {
   "cell_type": "code",
   "execution_count": 65,
   "metadata": {},
   "outputs": [],
   "source": [
    "# converter para o tipo datetime\n",
    "df_prec['DATE'] = pd.to_datetime(df_prec['DATE']) "
   ]
  },
  {
   "cell_type": "code",
   "execution_count": 66,
   "metadata": {},
   "outputs": [],
   "source": [
    "df_prec.set_index('DATE', inplace=True)"
   ]
  },
  {
   "cell_type": "code",
   "execution_count": 67,
   "metadata": {},
   "outputs": [
    {
     "data": {
      "image/png": "[encoded data removed]",
      "text/plain": [
       "<Figure size 864x504 with 1 Axes>"
      ]
     },
     "metadata": {
      "needs_background": "light"
     },
     "output_type": "display_data"
    }
   ],
   "source": [
    "df_prec.plot(figsize=(12, 7));"
   ]
  },
  {
   "cell_type": "markdown",
   "metadata": {},
   "source": [
    "### 10 - Observe que a série temporal diária parece ser bastante caótica e varia significativamente de um passo para outro.Crie séries temporais agregadas por mês para obter os valores totais mensais de precipitação. Plot a série temporal resultante, ela deve variar mais suavemente em comparação com a série temporal diária."
   ]
  },
  {
   "cell_type": "code",
   "execution_count": 68,
   "metadata": {},
   "outputs": [
    {
     "data": {
      "text/html": [
       "<div>\n",
       "<style scoped>\n",
       "    .dataframe tbody tr th:only-of-type {\n",
       "        vertical-align: middle;\n",
       "    }\n",
       "\n",
       "    .dataframe tbody tr th {\n",
       "        vertical-align: top;\n",
       "    }\n",
       "\n",
       "    .dataframe thead th {\n",
       "        text-align: right;\n",
       "    }\n",
       "</style>\n",
       "<table border=\"1\" class=\"dataframe\">\n",
       "  <thead>\n",
       "    <tr style=\"text-align: right;\">\n",
       "      <th></th>\n",
       "      <th>PRCP</th>\n",
       "    </tr>\n",
       "    <tr>\n",
       "      <th>DATE</th>\n",
       "      <th></th>\n",
       "    </tr>\n",
       "  </thead>\n",
       "  <tbody>\n",
       "    <tr>\n",
       "      <th>2001-01-01</th>\n",
       "      <td>0.00</td>\n",
       "    </tr>\n",
       "    <tr>\n",
       "      <th>2001-01-02</th>\n",
       "      <td>0.00</td>\n",
       "    </tr>\n",
       "    <tr>\n",
       "      <th>2001-01-03</th>\n",
       "      <td>0.00</td>\n",
       "    </tr>\n",
       "    <tr>\n",
       "      <th>2001-01-04</th>\n",
       "      <td>0.04</td>\n",
       "    </tr>\n",
       "    <tr>\n",
       "      <th>2001-01-05</th>\n",
       "      <td>0.14</td>\n",
       "    </tr>\n",
       "    <tr>\n",
       "      <th>...</th>\n",
       "      <td>...</td>\n",
       "    </tr>\n",
       "    <tr>\n",
       "      <th>2017-12-27</th>\n",
       "      <td>0.00</td>\n",
       "    </tr>\n",
       "    <tr>\n",
       "      <th>2017-12-28</th>\n",
       "      <td>0.00</td>\n",
       "    </tr>\n",
       "    <tr>\n",
       "      <th>2017-12-29</th>\n",
       "      <td>0.00</td>\n",
       "    </tr>\n",
       "    <tr>\n",
       "      <th>2017-12-30</th>\n",
       "      <td>0.00</td>\n",
       "    </tr>\n",
       "    <tr>\n",
       "      <th>2017-12-31</th>\n",
       "      <td>0.00</td>\n",
       "    </tr>\n",
       "  </tbody>\n",
       "</table>\n",
       "<p>6191 rows × 1 columns</p>\n",
       "</div>"
      ],
      "text/plain": [
       "            PRCP\n",
       "DATE            \n",
       "2001-01-01  0.00\n",
       "2001-01-02  0.00\n",
       "2001-01-03  0.00\n",
       "2001-01-04  0.04\n",
       "2001-01-05  0.14\n",
       "...          ...\n",
       "2017-12-27  0.00\n",
       "2017-12-28  0.00\n",
       "2017-12-29  0.00\n",
       "2017-12-30  0.00\n",
       "2017-12-31  0.00\n",
       "\n",
       "[6191 rows x 1 columns]"
      ]
     },
     "execution_count": 68,
     "metadata": {},
     "output_type": "execute_result"
    }
   ],
   "source": [
    "df_prec"
   ]
  },
  {
   "cell_type": "code",
   "execution_count": 69,
   "metadata": {},
   "outputs": [
    {
     "data": {
      "image/png": "[encoded data removed]",
      "text/plain": [
       "<Figure size 1440x504 with 1 Axes>"
      ]
     },
     "metadata": {
      "needs_background": "light"
     },
     "output_type": "display_data"
    }
   ],
   "source": [
    "df_prec.groupby(pd.Grouper(freq='M')).sum().plot(figsize=(20, 7));"
   ]
  },
  {
   "cell_type": "markdown",
   "metadata": {},
   "source": [
    "###  11 -Agora agrupe e agregue por ano para obter os valores de precipitação anuais e plot o resultado.\n"
   ]
  },
  {
   "cell_type": "code",
   "execution_count": 70,
   "metadata": {},
   "outputs": [
    {
     "data": {
      "image/png": "[encoded data removed]",
      "text/plain": [
       "<Figure size 1440x504 with 1 Axes>"
      ]
     },
     "metadata": {
      "needs_background": "light"
     },
     "output_type": "display_data"
    }
   ],
   "source": [
    "df_prec.groupby(pd.Grouper(freq='Y')).sum().plot(figsize=(20, 7));\n",
    "plt.title('Valores de precipitação anuais', fontsize=17);"
   ]
  },
  {
   "cell_type": "markdown",
   "metadata": {},
   "source": [
    "## Sampling - Use os dados NFL Play by Play \n",
    "\n",
    "Amostragem é uma abordagem comumente usada para facilitar (1) a redução de dados para análise exploratória de dados e ampliação de algoritmos para aplicações de big data e (2) quantificação de incertezas devido a distribuições de dados variáveis. Existem vários métodos disponíveis para amostragem de dados, como amostragem sem substituição, onde cada instância selecionada é removida do conjunto de dados e amostragem com substituição, onde cada instância selecionada não é removida, permitindo que ela seja selecionada mais de uma vez na amostra .\n"
   ]
  },
  {
   "cell_type": "markdown",
   "metadata": {},
   "source": [
    "### 12 - Selecione uma amostra de tamanho 30  aleatoriamente (sem substituição) dos dados NFL Play by Play.\n"
   ]
  },
  {
   "cell_type": "code",
   "execution_count": 73,
   "metadata": {},
   "outputs": [
    {
     "data": {
      "text/html": [
       "<div>\n",
       "<style scoped>\n",
       "    .dataframe tbody tr th:only-of-type {\n",
       "        vertical-align: middle;\n",
       "    }\n",
       "\n",
       "    .dataframe tbody tr th {\n",
       "        vertical-align: top;\n",
       "    }\n",
       "\n",
       "    .dataframe thead th {\n",
       "        text-align: right;\n",
       "    }\n",
       "</style>\n",
       "<table border=\"1\" class=\"dataframe\">\n",
       "  <thead>\n",
       "    <tr style=\"text-align: right;\">\n",
       "      <th></th>\n",
       "      <th>Date</th>\n",
       "      <th>GameID</th>\n",
       "      <th>Drive</th>\n",
       "      <th>qtr</th>\n",
       "      <th>time</th>\n",
       "      <th>TimeUnder</th>\n",
       "      <th>TimeSecs</th>\n",
       "      <th>PlayTimeDiff</th>\n",
       "      <th>SideofField</th>\n",
       "      <th>yrdln</th>\n",
       "      <th>...</th>\n",
       "      <th>posteam</th>\n",
       "      <th>DefensiveTeam</th>\n",
       "      <th>desc</th>\n",
       "      <th>PlayAttempted</th>\n",
       "      <th>Yards.Gained</th>\n",
       "      <th>sp</th>\n",
       "      <th>Touchdown</th>\n",
       "      <th>Safety</th>\n",
       "      <th>Onsidekick</th>\n",
       "      <th>PlayType</th>\n",
       "    </tr>\n",
       "  </thead>\n",
       "  <tbody>\n",
       "    <tr>\n",
       "      <th>294543</th>\n",
       "      <td>2015-11-09</td>\n",
       "      <td>2015110900</td>\n",
       "      <td>17</td>\n",
       "      <td>4</td>\n",
       "      <td>13:44</td>\n",
       "      <td>14</td>\n",
       "      <td>824.0</td>\n",
       "      <td>14.0</td>\n",
       "      <td>SD</td>\n",
       "      <td>28.0</td>\n",
       "      <td>...</td>\n",
       "      <td>SD</td>\n",
       "      <td>CHI</td>\n",
       "      <td>(13:44) (No Huddle, Shotgun) M.Gordon up the m...</td>\n",
       "      <td>1</td>\n",
       "      <td>3</td>\n",
       "      <td>0</td>\n",
       "      <td>0</td>\n",
       "      <td>0</td>\n",
       "      <td>0</td>\n",
       "      <td>Run</td>\n",
       "    </tr>\n",
       "    <tr>\n",
       "      <th>267270</th>\n",
       "      <td>2014-12-21</td>\n",
       "      <td>2014122110</td>\n",
       "      <td>27</td>\n",
       "      <td>4</td>\n",
       "      <td>01:32</td>\n",
       "      <td>2</td>\n",
       "      <td>92.0</td>\n",
       "      <td>16.0</td>\n",
       "      <td>OAK</td>\n",
       "      <td>30.0</td>\n",
       "      <td>...</td>\n",
       "      <td>BUF</td>\n",
       "      <td>OAK</td>\n",
       "      <td>(1:32) (No Huddle, Shotgun) K.Orton pass short...</td>\n",
       "      <td>1</td>\n",
       "      <td>5</td>\n",
       "      <td>0</td>\n",
       "      <td>0</td>\n",
       "      <td>0</td>\n",
       "      <td>0</td>\n",
       "      <td>Pass</td>\n",
       "    </tr>\n",
       "    <tr>\n",
       "      <th>294584</th>\n",
       "      <td>2015-11-09</td>\n",
       "      <td>2015110900</td>\n",
       "      <td>20</td>\n",
       "      <td>4</td>\n",
       "      <td>00:34</td>\n",
       "      <td>1</td>\n",
       "      <td>34.0</td>\n",
       "      <td>29.0</td>\n",
       "      <td>SD</td>\n",
       "      <td>42.0</td>\n",
       "      <td>...</td>\n",
       "      <td>CHI</td>\n",
       "      <td>SD</td>\n",
       "      <td>(:34) J.Cutler kneels to SD 43 for -1 yards.</td>\n",
       "      <td>1</td>\n",
       "      <td>-1</td>\n",
       "      <td>0</td>\n",
       "      <td>0</td>\n",
       "      <td>0</td>\n",
       "      <td>0</td>\n",
       "      <td>QB Kneel</td>\n",
       "    </tr>\n",
       "    <tr>\n",
       "      <th>29008</th>\n",
       "      <td>2009-11-29</td>\n",
       "      <td>2009112907</td>\n",
       "      <td>10</td>\n",
       "      <td>2</td>\n",
       "      <td>02:01</td>\n",
       "      <td>3</td>\n",
       "      <td>1921.0</td>\n",
       "      <td>33.0</td>\n",
       "      <td>SEA</td>\n",
       "      <td>37.0</td>\n",
       "      <td>...</td>\n",
       "      <td>STL</td>\n",
       "      <td>SEA</td>\n",
       "      <td>(2:01) K.Boller pass short right to S.Jackson ...</td>\n",
       "      <td>1</td>\n",
       "      <td>3</td>\n",
       "      <td>0</td>\n",
       "      <td>0</td>\n",
       "      <td>0</td>\n",
       "      <td>0</td>\n",
       "      <td>Pass</td>\n",
       "    </tr>\n",
       "    <tr>\n",
       "      <th>338302</th>\n",
       "      <td>2016-10-31</td>\n",
       "      <td>2016103100</td>\n",
       "      <td>13</td>\n",
       "      <td>3</td>\n",
       "      <td>10:48</td>\n",
       "      <td>11</td>\n",
       "      <td>1548.0</td>\n",
       "      <td>42.0</td>\n",
       "      <td>MIN</td>\n",
       "      <td>17.0</td>\n",
       "      <td>...</td>\n",
       "      <td>CHI</td>\n",
       "      <td>MIN</td>\n",
       "      <td>(10:48) (Shotgun) J.Howard left end to MIN 11 ...</td>\n",
       "      <td>1</td>\n",
       "      <td>6</td>\n",
       "      <td>0</td>\n",
       "      <td>0</td>\n",
       "      <td>0</td>\n",
       "      <td>0</td>\n",
       "      <td>Run</td>\n",
       "    </tr>\n",
       "    <tr>\n",
       "      <th>293530</th>\n",
       "      <td>2015-11-08</td>\n",
       "      <td>2015110806</td>\n",
       "      <td>11</td>\n",
       "      <td>2</td>\n",
       "      <td>05:19</td>\n",
       "      <td>6</td>\n",
       "      <td>2119.0</td>\n",
       "      <td>40.0</td>\n",
       "      <td>PIT</td>\n",
       "      <td>27.0</td>\n",
       "      <td>...</td>\n",
       "      <td>PIT</td>\n",
       "      <td>OAK</td>\n",
       "      <td>(5:19) A.Brown right end to PIT 43 for 16 yard...</td>\n",
       "      <td>1</td>\n",
       "      <td>16</td>\n",
       "      <td>0</td>\n",
       "      <td>0</td>\n",
       "      <td>0</td>\n",
       "      <td>0</td>\n",
       "      <td>Run</td>\n",
       "    </tr>\n",
       "    <tr>\n",
       "      <th>105667</th>\n",
       "      <td>2011-10-23</td>\n",
       "      <td>2011102302</td>\n",
       "      <td>15</td>\n",
       "      <td>3</td>\n",
       "      <td>03:46</td>\n",
       "      <td>4</td>\n",
       "      <td>1126.0</td>\n",
       "      <td>38.0</td>\n",
       "      <td>HOU</td>\n",
       "      <td>31.0</td>\n",
       "      <td>...</td>\n",
       "      <td>HOU</td>\n",
       "      <td>TEN</td>\n",
       "      <td>(3:46) B.Tate left guard to HOU 35 for 4 yards...</td>\n",
       "      <td>1</td>\n",
       "      <td>4</td>\n",
       "      <td>0</td>\n",
       "      <td>0</td>\n",
       "      <td>0</td>\n",
       "      <td>0</td>\n",
       "      <td>Run</td>\n",
       "    </tr>\n",
       "    <tr>\n",
       "      <th>80722</th>\n",
       "      <td>2010-12-13</td>\n",
       "      <td>2010121301</td>\n",
       "      <td>18</td>\n",
       "      <td>3</td>\n",
       "      <td>06:09</td>\n",
       "      <td>7</td>\n",
       "      <td>1269.0</td>\n",
       "      <td>62.0</td>\n",
       "      <td>MIN</td>\n",
       "      <td>40.0</td>\n",
       "      <td>...</td>\n",
       "      <td>NYG</td>\n",
       "      <td>MIN</td>\n",
       "      <td>(6:09) (Shotgun) E.Manning sacked at MIN 45 fo...</td>\n",
       "      <td>1</td>\n",
       "      <td>-5</td>\n",
       "      <td>0</td>\n",
       "      <td>0</td>\n",
       "      <td>0</td>\n",
       "      <td>0</td>\n",
       "      <td>Sack</td>\n",
       "    </tr>\n",
       "    <tr>\n",
       "      <th>17956</th>\n",
       "      <td>2009-11-01</td>\n",
       "      <td>2009110100</td>\n",
       "      <td>11</td>\n",
       "      <td>2</td>\n",
       "      <td>03:06</td>\n",
       "      <td>4</td>\n",
       "      <td>1986.0</td>\n",
       "      <td>39.0</td>\n",
       "      <td>DEN</td>\n",
       "      <td>35.0</td>\n",
       "      <td>...</td>\n",
       "      <td>DEN</td>\n",
       "      <td>BAL</td>\n",
       "      <td>(3:06) (Shotgun) K.Orton pass short left to E....</td>\n",
       "      <td>1</td>\n",
       "      <td>7</td>\n",
       "      <td>0</td>\n",
       "      <td>0</td>\n",
       "      <td>0</td>\n",
       "      <td>0</td>\n",
       "      <td>Pass</td>\n",
       "    </tr>\n",
       "    <tr>\n",
       "      <th>186195</th>\n",
       "      <td>2013-09-22</td>\n",
       "      <td>2013092209</td>\n",
       "      <td>7</td>\n",
       "      <td>2</td>\n",
       "      <td>13:39</td>\n",
       "      <td>14</td>\n",
       "      <td>2619.0</td>\n",
       "      <td>35.0</td>\n",
       "      <td>WAS</td>\n",
       "      <td>35.0</td>\n",
       "      <td>...</td>\n",
       "      <td>WAS</td>\n",
       "      <td>DET</td>\n",
       "      <td>(13:39) (Shotgun) A.Morris right end to WAS 37...</td>\n",
       "      <td>1</td>\n",
       "      <td>2</td>\n",
       "      <td>0</td>\n",
       "      <td>0</td>\n",
       "      <td>0</td>\n",
       "      <td>0</td>\n",
       "      <td>Run</td>\n",
       "    </tr>\n",
       "    <tr>\n",
       "      <th>130148</th>\n",
       "      <td>2011-12-24</td>\n",
       "      <td>2011122402</td>\n",
       "      <td>20</td>\n",
       "      <td>4</td>\n",
       "      <td>06:50</td>\n",
       "      <td>7</td>\n",
       "      <td>410.0</td>\n",
       "      <td>8.0</td>\n",
       "      <td>CLE</td>\n",
       "      <td>27.0</td>\n",
       "      <td>...</td>\n",
       "      <td>CLE</td>\n",
       "      <td>BAL</td>\n",
       "      <td>(6:50) P.Hillis right tackle to CLE 35 for 8 y...</td>\n",
       "      <td>1</td>\n",
       "      <td>8</td>\n",
       "      <td>0</td>\n",
       "      <td>0</td>\n",
       "      <td>0</td>\n",
       "      <td>0</td>\n",
       "      <td>Run</td>\n",
       "    </tr>\n",
       "    <tr>\n",
       "      <th>268382</th>\n",
       "      <td>2014-12-28</td>\n",
       "      <td>2014122810</td>\n",
       "      <td>6</td>\n",
       "      <td>2</td>\n",
       "      <td>09:41</td>\n",
       "      <td>10</td>\n",
       "      <td>2381.0</td>\n",
       "      <td>38.0</td>\n",
       "      <td>NO</td>\n",
       "      <td>48.0</td>\n",
       "      <td>...</td>\n",
       "      <td>NO</td>\n",
       "      <td>TB</td>\n",
       "      <td>(9:41) (Shotgun) D.Brees pass short left to M....</td>\n",
       "      <td>1</td>\n",
       "      <td>-2</td>\n",
       "      <td>0</td>\n",
       "      <td>0</td>\n",
       "      <td>0</td>\n",
       "      <td>0</td>\n",
       "      <td>Pass</td>\n",
       "    </tr>\n",
       "    <tr>\n",
       "      <th>232696</th>\n",
       "      <td>2014-09-21</td>\n",
       "      <td>2014092105</td>\n",
       "      <td>17</td>\n",
       "      <td>4</td>\n",
       "      <td>04:04</td>\n",
       "      <td>5</td>\n",
       "      <td>244.0</td>\n",
       "      <td>39.0</td>\n",
       "      <td>NE</td>\n",
       "      <td>20.0</td>\n",
       "      <td>...</td>\n",
       "      <td>NE</td>\n",
       "      <td>OAK</td>\n",
       "      <td>(4:04) (Shotgun) T.Brady pass short left to B....</td>\n",
       "      <td>1</td>\n",
       "      <td>15</td>\n",
       "      <td>0</td>\n",
       "      <td>0</td>\n",
       "      <td>0</td>\n",
       "      <td>0</td>\n",
       "      <td>Pass</td>\n",
       "    </tr>\n",
       "    <tr>\n",
       "      <th>167045</th>\n",
       "      <td>2012-12-02</td>\n",
       "      <td>2012120204</td>\n",
       "      <td>15</td>\n",
       "      <td>4</td>\n",
       "      <td>03:41</td>\n",
       "      <td>4</td>\n",
       "      <td>221.0</td>\n",
       "      <td>0.0</td>\n",
       "      <td>KC</td>\n",
       "      <td>32.0</td>\n",
       "      <td>...</td>\n",
       "      <td>KC</td>\n",
       "      <td>CAR</td>\n",
       "      <td>(3:41) J.Charles left tackle to KC 34 for 2 ya...</td>\n",
       "      <td>1</td>\n",
       "      <td>2</td>\n",
       "      <td>0</td>\n",
       "      <td>0</td>\n",
       "      <td>0</td>\n",
       "      <td>0</td>\n",
       "      <td>Run</td>\n",
       "    </tr>\n",
       "    <tr>\n",
       "      <th>74594</th>\n",
       "      <td>2010-11-28</td>\n",
       "      <td>2010112809</td>\n",
       "      <td>18</td>\n",
       "      <td>3</td>\n",
       "      <td>04:01</td>\n",
       "      <td>5</td>\n",
       "      <td>1141.0</td>\n",
       "      <td>6.0</td>\n",
       "      <td>OAK</td>\n",
       "      <td>31.0</td>\n",
       "      <td>...</td>\n",
       "      <td>MIA</td>\n",
       "      <td>OAK</td>\n",
       "      <td>(4:01) D.Carpenter 49 yard field goal is No Go...</td>\n",
       "      <td>1</td>\n",
       "      <td>0</td>\n",
       "      <td>0</td>\n",
       "      <td>0</td>\n",
       "      <td>0</td>\n",
       "      <td>0</td>\n",
       "      <td>Field Goal</td>\n",
       "    </tr>\n",
       "    <tr>\n",
       "      <th>347256</th>\n",
       "      <td>2016-11-27</td>\n",
       "      <td>2016112706</td>\n",
       "      <td>1</td>\n",
       "      <td>1</td>\n",
       "      <td>13:23</td>\n",
       "      <td>14</td>\n",
       "      <td>3503.0</td>\n",
       "      <td>6.0</td>\n",
       "      <td>MIA</td>\n",
       "      <td>20.0</td>\n",
       "      <td>...</td>\n",
       "      <td>MIA</td>\n",
       "      <td>SF</td>\n",
       "      <td>(13:23) (Punt formation) M.Darr punts 42 yards...</td>\n",
       "      <td>1</td>\n",
       "      <td>0</td>\n",
       "      <td>0</td>\n",
       "      <td>0</td>\n",
       "      <td>0</td>\n",
       "      <td>0</td>\n",
       "      <td>Punt</td>\n",
       "    </tr>\n",
       "    <tr>\n",
       "      <th>50638</th>\n",
       "      <td>2010-09-26</td>\n",
       "      <td>2010092603</td>\n",
       "      <td>2</td>\n",
       "      <td>1</td>\n",
       "      <td>07:54</td>\n",
       "      <td>8</td>\n",
       "      <td>3174.0</td>\n",
       "      <td>43.0</td>\n",
       "      <td>NE</td>\n",
       "      <td>46.0</td>\n",
       "      <td>...</td>\n",
       "      <td>NE</td>\n",
       "      <td>BUF</td>\n",
       "      <td>(7:54) (Shotgun) T.Brady pass deep middle to A...</td>\n",
       "      <td>1</td>\n",
       "      <td>25</td>\n",
       "      <td>0</td>\n",
       "      <td>0</td>\n",
       "      <td>0</td>\n",
       "      <td>0</td>\n",
       "      <td>Pass</td>\n",
       "    </tr>\n",
       "    <tr>\n",
       "      <th>299145</th>\n",
       "      <td>2015-11-22</td>\n",
       "      <td>2015112210</td>\n",
       "      <td>9</td>\n",
       "      <td>2</td>\n",
       "      <td>00:20</td>\n",
       "      <td>1</td>\n",
       "      <td>1820.0</td>\n",
       "      <td>22.0</td>\n",
       "      <td>SEA</td>\n",
       "      <td>29.0</td>\n",
       "      <td>...</td>\n",
       "      <td>SF</td>\n",
       "      <td>SEA</td>\n",
       "      <td>(:20) (No Huddle, Shotgun) B.Gabbert scrambles...</td>\n",
       "      <td>1</td>\n",
       "      <td>10</td>\n",
       "      <td>0</td>\n",
       "      <td>0</td>\n",
       "      <td>0</td>\n",
       "      <td>0</td>\n",
       "      <td>Run</td>\n",
       "    </tr>\n",
       "    <tr>\n",
       "      <th>302824</th>\n",
       "      <td>2015-12-06</td>\n",
       "      <td>2015120600</td>\n",
       "      <td>18</td>\n",
       "      <td>4</td>\n",
       "      <td>05:55</td>\n",
       "      <td>6</td>\n",
       "      <td>355.0</td>\n",
       "      <td>28.0</td>\n",
       "      <td>NYG</td>\n",
       "      <td>32.0</td>\n",
       "      <td>...</td>\n",
       "      <td>NYJ</td>\n",
       "      <td>NYG</td>\n",
       "      <td>(5:55) (No Huddle, Shotgun) R.Fitzpatrick pass...</td>\n",
       "      <td>1</td>\n",
       "      <td>0</td>\n",
       "      <td>0</td>\n",
       "      <td>0</td>\n",
       "      <td>0</td>\n",
       "      <td>0</td>\n",
       "      <td>Pass</td>\n",
       "    </tr>\n",
       "    <tr>\n",
       "      <th>17037</th>\n",
       "      <td>2009-10-25</td>\n",
       "      <td>2009102510</td>\n",
       "      <td>8</td>\n",
       "      <td>1</td>\n",
       "      <td>00:00</td>\n",
       "      <td>0</td>\n",
       "      <td>2700.0</td>\n",
       "      <td>34.0</td>\n",
       "      <td>NO</td>\n",
       "      <td>41.0</td>\n",
       "      <td>...</td>\n",
       "      <td>NaN</td>\n",
       "      <td>NaN</td>\n",
       "      <td>END QUARTER 1</td>\n",
       "      <td>1</td>\n",
       "      <td>0</td>\n",
       "      <td>0</td>\n",
       "      <td>0</td>\n",
       "      <td>0</td>\n",
       "      <td>0</td>\n",
       "      <td>Quarter End</td>\n",
       "    </tr>\n",
       "    <tr>\n",
       "      <th>216617</th>\n",
       "      <td>2013-12-09</td>\n",
       "      <td>2013120900</td>\n",
       "      <td>3</td>\n",
       "      <td>1</td>\n",
       "      <td>00:06</td>\n",
       "      <td>1</td>\n",
       "      <td>2706.0</td>\n",
       "      <td>43.0</td>\n",
       "      <td>DAL</td>\n",
       "      <td>30.0</td>\n",
       "      <td>...</td>\n",
       "      <td>DAL</td>\n",
       "      <td>CHI</td>\n",
       "      <td>(:06) (Shotgun) T.Romo pass short left to D.Mu...</td>\n",
       "      <td>1</td>\n",
       "      <td>3</td>\n",
       "      <td>0</td>\n",
       "      <td>0</td>\n",
       "      <td>0</td>\n",
       "      <td>0</td>\n",
       "      <td>Pass</td>\n",
       "    </tr>\n",
       "    <tr>\n",
       "      <th>26033</th>\n",
       "      <td>2009-11-22</td>\n",
       "      <td>2009112205</td>\n",
       "      <td>10</td>\n",
       "      <td>2</td>\n",
       "      <td>01:55</td>\n",
       "      <td>2</td>\n",
       "      <td>1915.0</td>\n",
       "      <td>4.0</td>\n",
       "      <td>KC</td>\n",
       "      <td>11.0</td>\n",
       "      <td>...</td>\n",
       "      <td>PIT</td>\n",
       "      <td>KC</td>\n",
       "      <td>(1:55) R.Mendenhall right tackle to KC 10 for ...</td>\n",
       "      <td>1</td>\n",
       "      <td>1</td>\n",
       "      <td>0</td>\n",
       "      <td>0</td>\n",
       "      <td>0</td>\n",
       "      <td>0</td>\n",
       "      <td>Run</td>\n",
       "    </tr>\n",
       "    <tr>\n",
       "      <th>296605</th>\n",
       "      <td>2015-11-15</td>\n",
       "      <td>2015111510</td>\n",
       "      <td>9</td>\n",
       "      <td>2</td>\n",
       "      <td>10:53</td>\n",
       "      <td>11</td>\n",
       "      <td>2453.0</td>\n",
       "      <td>5.0</td>\n",
       "      <td>DEN</td>\n",
       "      <td>13.0</td>\n",
       "      <td>...</td>\n",
       "      <td>DEN</td>\n",
       "      <td>KC</td>\n",
       "      <td>(10:53) (Shotgun) P.Manning pass incomplete sh...</td>\n",
       "      <td>1</td>\n",
       "      <td>0</td>\n",
       "      <td>0</td>\n",
       "      <td>0</td>\n",
       "      <td>0</td>\n",
       "      <td>0</td>\n",
       "      <td>Pass</td>\n",
       "    </tr>\n",
       "    <tr>\n",
       "      <th>328359</th>\n",
       "      <td>2016-10-09</td>\n",
       "      <td>2016100901</td>\n",
       "      <td>14</td>\n",
       "      <td>3</td>\n",
       "      <td>14:19</td>\n",
       "      <td>15</td>\n",
       "      <td>1759.0</td>\n",
       "      <td>5.0</td>\n",
       "      <td>NE</td>\n",
       "      <td>38.0</td>\n",
       "      <td>...</td>\n",
       "      <td>NE</td>\n",
       "      <td>CLE</td>\n",
       "      <td>(14:19) T.Brady pass short left to M.Mitchell ...</td>\n",
       "      <td>1</td>\n",
       "      <td>2</td>\n",
       "      <td>0</td>\n",
       "      <td>0</td>\n",
       "      <td>0</td>\n",
       "      <td>0</td>\n",
       "      <td>Pass</td>\n",
       "    </tr>\n",
       "    <tr>\n",
       "      <th>252587</th>\n",
       "      <td>2014-11-16</td>\n",
       "      <td>2014111607</td>\n",
       "      <td>21</td>\n",
       "      <td>4</td>\n",
       "      <td>05:59</td>\n",
       "      <td>6</td>\n",
       "      <td>359.0</td>\n",
       "      <td>16.0</td>\n",
       "      <td>DEN</td>\n",
       "      <td>19.0</td>\n",
       "      <td>...</td>\n",
       "      <td>DEN</td>\n",
       "      <td>STL</td>\n",
       "      <td>(5:59) (Shotgun) P.Manning pass short right to...</td>\n",
       "      <td>1</td>\n",
       "      <td>9</td>\n",
       "      <td>0</td>\n",
       "      <td>0</td>\n",
       "      <td>0</td>\n",
       "      <td>0</td>\n",
       "      <td>Pass</td>\n",
       "    </tr>\n",
       "    <tr>\n",
       "      <th>260243</th>\n",
       "      <td>2014-12-07</td>\n",
       "      <td>2014120705</td>\n",
       "      <td>11</td>\n",
       "      <td>2</td>\n",
       "      <td>00:12</td>\n",
       "      <td>1</td>\n",
       "      <td>1812.0</td>\n",
       "      <td>5.0</td>\n",
       "      <td>MIN</td>\n",
       "      <td>41.0</td>\n",
       "      <td>...</td>\n",
       "      <td>MIN</td>\n",
       "      <td>NYJ</td>\n",
       "      <td>(:12) (Shotgun) T.Bridgewater pass short right...</td>\n",
       "      <td>1</td>\n",
       "      <td>12</td>\n",
       "      <td>0</td>\n",
       "      <td>0</td>\n",
       "      <td>0</td>\n",
       "      <td>0</td>\n",
       "      <td>Pass</td>\n",
       "    </tr>\n",
       "    <tr>\n",
       "      <th>43337</th>\n",
       "      <td>2010-01-03</td>\n",
       "      <td>2010010302</td>\n",
       "      <td>12</td>\n",
       "      <td>2</td>\n",
       "      <td>00:20</td>\n",
       "      <td>1</td>\n",
       "      <td>1820.0</td>\n",
       "      <td>4.0</td>\n",
       "      <td>CLE</td>\n",
       "      <td>49.0</td>\n",
       "      <td>...</td>\n",
       "      <td>JAC</td>\n",
       "      <td>CLE</td>\n",
       "      <td>(:20) (Shotgun) D.Garrard sacked at CLE 49 for...</td>\n",
       "      <td>1</td>\n",
       "      <td>0</td>\n",
       "      <td>0</td>\n",
       "      <td>0</td>\n",
       "      <td>0</td>\n",
       "      <td>0</td>\n",
       "      <td>Sack</td>\n",
       "    </tr>\n",
       "    <tr>\n",
       "      <th>345833</th>\n",
       "      <td>2016-11-24</td>\n",
       "      <td>2016112400</td>\n",
       "      <td>15</td>\n",
       "      <td>4</td>\n",
       "      <td>10:09</td>\n",
       "      <td>11</td>\n",
       "      <td>609.0</td>\n",
       "      <td>38.0</td>\n",
       "      <td>DET</td>\n",
       "      <td>38.0</td>\n",
       "      <td>...</td>\n",
       "      <td>DET</td>\n",
       "      <td>MIN</td>\n",
       "      <td>(10:09) (Shotgun) M.Stafford pass incomplete s...</td>\n",
       "      <td>1</td>\n",
       "      <td>0</td>\n",
       "      <td>0</td>\n",
       "      <td>0</td>\n",
       "      <td>0</td>\n",
       "      <td>0</td>\n",
       "      <td>Pass</td>\n",
       "    </tr>\n",
       "    <tr>\n",
       "      <th>343382</th>\n",
       "      <td>2016-11-17</td>\n",
       "      <td>2016111700</td>\n",
       "      <td>21</td>\n",
       "      <td>4</td>\n",
       "      <td>07:33</td>\n",
       "      <td>8</td>\n",
       "      <td>453.0</td>\n",
       "      <td>30.0</td>\n",
       "      <td>NO</td>\n",
       "      <td>24.0</td>\n",
       "      <td>...</td>\n",
       "      <td>NO</td>\n",
       "      <td>CAR</td>\n",
       "      <td>(7:33) (Shotgun) D.Brees pass short left to W....</td>\n",
       "      <td>1</td>\n",
       "      <td>8</td>\n",
       "      <td>0</td>\n",
       "      <td>0</td>\n",
       "      <td>0</td>\n",
       "      <td>0</td>\n",
       "      <td>No Play</td>\n",
       "    </tr>\n",
       "    <tr>\n",
       "      <th>325839</th>\n",
       "      <td>2016-10-02</td>\n",
       "      <td>2016100204</td>\n",
       "      <td>19</td>\n",
       "      <td>4</td>\n",
       "      <td>14:10</td>\n",
       "      <td>15</td>\n",
       "      <td>850.0</td>\n",
       "      <td>0.0</td>\n",
       "      <td>HOU</td>\n",
       "      <td>18.0</td>\n",
       "      <td>...</td>\n",
       "      <td>HOU</td>\n",
       "      <td>TEN</td>\n",
       "      <td>(14:10) (Shotgun) B.Osweiler pass short middle...</td>\n",
       "      <td>1</td>\n",
       "      <td>8</td>\n",
       "      <td>0</td>\n",
       "      <td>0</td>\n",
       "      <td>0</td>\n",
       "      <td>0</td>\n",
       "      <td>Pass</td>\n",
       "    </tr>\n",
       "  </tbody>\n",
       "</table>\n",
       "<p>30 rows × 25 columns</p>\n",
       "</div>"
      ],
      "text/plain": [
       "              Date      GameID  Drive  qtr   time  TimeUnder  TimeSecs  \\\n",
       "294543  2015-11-09  2015110900     17    4  13:44         14     824.0   \n",
       "267270  2014-12-21  2014122110     27    4  01:32          2      92.0   \n",
       "294584  2015-11-09  2015110900     20    4  00:34          1      34.0   \n",
       "29008   2009-11-29  2009112907     10    2  02:01          3    1921.0   \n",
       "338302  2016-10-31  2016103100     13    3  10:48         11    1548.0   \n",
       "293530  2015-11-08  2015110806     11    2  05:19          6    2119.0   \n",
       "105667  2011-10-23  2011102302     15    3  03:46          4    1126.0   \n",
       "80722   2010-12-13  2010121301     18    3  06:09          7    1269.0   \n",
       "17956   2009-11-01  2009110100     11    2  03:06          4    1986.0   \n",
       "186195  2013-09-22  2013092209      7    2  13:39         14    2619.0   \n",
       "130148  2011-12-24  2011122402     20    4  06:50          7     410.0   \n",
       "268382  2014-12-28  2014122810      6    2  09:41         10    2381.0   \n",
       "232696  2014-09-21  2014092105     17    4  04:04          5     244.0   \n",
       "167045  2012-12-02  2012120204     15    4  03:41          4     221.0   \n",
       "74594   2010-11-28  2010112809     18    3  04:01          5    1141.0   \n",
       "347256  2016-11-27  2016112706      1    1  13:23         14    3503.0   \n",
       "50638   2010-09-26  2010092603      2    1  07:54          8    3174.0   \n",
       "299145  2015-11-22  2015112210      9    2  00:20          1    1820.0   \n",
       "302824  2015-12-06  2015120600     18    4  05:55          6     355.0   \n",
       "17037   2009-10-25  2009102510      8    1  00:00          0    2700.0   \n",
       "216617  2013-12-09  2013120900      3    1  00:06          1    2706.0   \n",
       "26033   2009-11-22  2009112205     10    2  01:55          2    1915.0   \n",
       "296605  2015-11-15  2015111510      9    2  10:53         11    2453.0   \n",
       "328359  2016-10-09  2016100901     14    3  14:19         15    1759.0   \n",
       "252587  2014-11-16  2014111607     21    4  05:59          6     359.0   \n",
       "260243  2014-12-07  2014120705     11    2  00:12          1    1812.0   \n",
       "43337   2010-01-03  2010010302     12    2  00:20          1    1820.0   \n",
       "345833  2016-11-24  2016112400     15    4  10:09         11     609.0   \n",
       "343382  2016-11-17  2016111700     21    4  07:33          8     453.0   \n",
       "325839  2016-10-02  2016100204     19    4  14:10         15     850.0   \n",
       "\n",
       "        PlayTimeDiff SideofField  yrdln  ...  posteam  DefensiveTeam  \\\n",
       "294543          14.0          SD   28.0  ...       SD            CHI   \n",
       "267270          16.0         OAK   30.0  ...      BUF            OAK   \n",
       "294584          29.0          SD   42.0  ...      CHI             SD   \n",
       "29008           33.0         SEA   37.0  ...      STL            SEA   \n",
       "338302          42.0         MIN   17.0  ...      CHI            MIN   \n",
       "293530          40.0         PIT   27.0  ...      PIT            OAK   \n",
       "105667          38.0         HOU   31.0  ...      HOU            TEN   \n",
       "80722           62.0         MIN   40.0  ...      NYG            MIN   \n",
       "17956           39.0         DEN   35.0  ...      DEN            BAL   \n",
       "186195          35.0         WAS   35.0  ...      WAS            DET   \n",
       "130148           8.0         CLE   27.0  ...      CLE            BAL   \n",
       "268382          38.0          NO   48.0  ...       NO             TB   \n",
       "232696          39.0          NE   20.0  ...       NE            OAK   \n",
       "167045           0.0          KC   32.0  ...       KC            CAR   \n",
       "74594            6.0         OAK   31.0  ...      MIA            OAK   \n",
       "347256           6.0         MIA   20.0  ...      MIA             SF   \n",
       "50638           43.0          NE   46.0  ...       NE            BUF   \n",
       "299145          22.0         SEA   29.0  ...       SF            SEA   \n",
       "302824          28.0         NYG   32.0  ...      NYJ            NYG   \n",
       "17037           34.0          NO   41.0  ...      NaN            NaN   \n",
       "216617          43.0         DAL   30.0  ...      DAL            CHI   \n",
       "26033            4.0          KC   11.0  ...      PIT             KC   \n",
       "296605           5.0         DEN   13.0  ...      DEN             KC   \n",
       "328359           5.0          NE   38.0  ...       NE            CLE   \n",
       "252587          16.0         DEN   19.0  ...      DEN            STL   \n",
       "260243           5.0         MIN   41.0  ...      MIN            NYJ   \n",
       "43337            4.0         CLE   49.0  ...      JAC            CLE   \n",
       "345833          38.0         DET   38.0  ...      DET            MIN   \n",
       "343382          30.0          NO   24.0  ...       NO            CAR   \n",
       "325839           0.0         HOU   18.0  ...      HOU            TEN   \n",
       "\n",
       "                                                     desc  PlayAttempted  \\\n",
       "294543  (13:44) (No Huddle, Shotgun) M.Gordon up the m...              1   \n",
       "267270  (1:32) (No Huddle, Shotgun) K.Orton pass short...              1   \n",
       "294584       (:34) J.Cutler kneels to SD 43 for -1 yards.              1   \n",
       "29008   (2:01) K.Boller pass short right to S.Jackson ...              1   \n",
       "338302  (10:48) (Shotgun) J.Howard left end to MIN 11 ...              1   \n",
       "293530  (5:19) A.Brown right end to PIT 43 for 16 yard...              1   \n",
       "105667  (3:46) B.Tate left guard to HOU 35 for 4 yards...              1   \n",
       "80722   (6:09) (Shotgun) E.Manning sacked at MIN 45 fo...              1   \n",
       "17956   (3:06) (Shotgun) K.Orton pass short left to E....              1   \n",
       "186195  (13:39) (Shotgun) A.Morris right end to WAS 37...              1   \n",
       "130148  (6:50) P.Hillis right tackle to CLE 35 for 8 y...              1   \n",
       "268382  (9:41) (Shotgun) D.Brees pass short left to M....              1   \n",
       "232696  (4:04) (Shotgun) T.Brady pass short left to B....              1   \n",
       "167045  (3:41) J.Charles left tackle to KC 34 for 2 ya...              1   \n",
       "74594   (4:01) D.Carpenter 49 yard field goal is No Go...              1   \n",
       "347256  (13:23) (Punt formation) M.Darr punts 42 yards...              1   \n",
       "50638   (7:54) (Shotgun) T.Brady pass deep middle to A...              1   \n",
       "299145  (:20) (No Huddle, Shotgun) B.Gabbert scrambles...              1   \n",
       "302824  (5:55) (No Huddle, Shotgun) R.Fitzpatrick pass...              1   \n",
       "17037                                       END QUARTER 1              1   \n",
       "216617  (:06) (Shotgun) T.Romo pass short left to D.Mu...              1   \n",
       "26033   (1:55) R.Mendenhall right tackle to KC 10 for ...              1   \n",
       "296605  (10:53) (Shotgun) P.Manning pass incomplete sh...              1   \n",
       "328359  (14:19) T.Brady pass short left to M.Mitchell ...              1   \n",
       "252587  (5:59) (Shotgun) P.Manning pass short right to...              1   \n",
       "260243  (:12) (Shotgun) T.Bridgewater pass short right...              1   \n",
       "43337   (:20) (Shotgun) D.Garrard sacked at CLE 49 for...              1   \n",
       "345833  (10:09) (Shotgun) M.Stafford pass incomplete s...              1   \n",
       "343382  (7:33) (Shotgun) D.Brees pass short left to W....              1   \n",
       "325839  (14:10) (Shotgun) B.Osweiler pass short middle...              1   \n",
       "\n",
       "        Yards.Gained sp Touchdown Safety  Onsidekick     PlayType  \n",
       "294543             3  0         0      0           0          Run  \n",
       "267270             5  0         0      0           0         Pass  \n",
       "294584            -1  0         0      0           0     QB Kneel  \n",
       "29008              3  0         0      0           0         Pass  \n",
       "338302             6  0         0      0           0          Run  \n",
       "293530            16  0         0      0           0          Run  \n",
       "105667             4  0         0      0           0          Run  \n",
       "80722             -5  0         0      0           0         Sack  \n",
       "17956              7  0         0      0           0         Pass  \n",
       "186195             2  0         0      0           0          Run  \n",
       "130148             8  0         0      0           0          Run  \n",
       "268382            -2  0         0      0           0         Pass  \n",
       "232696            15  0         0      0           0         Pass  \n",
       "167045             2  0         0      0           0          Run  \n",
       "74594              0  0         0      0           0   Field Goal  \n",
       "347256             0  0         0      0           0         Punt  \n",
       "50638             25  0         0      0           0         Pass  \n",
       "299145            10  0         0      0           0          Run  \n",
       "302824             0  0         0      0           0         Pass  \n",
       "17037              0  0         0      0           0  Quarter End  \n",
       "216617             3  0         0      0           0         Pass  \n",
       "26033              1  0         0      0           0          Run  \n",
       "296605             0  0         0      0           0         Pass  \n",
       "328359             2  0         0      0           0         Pass  \n",
       "252587             9  0         0      0           0         Pass  \n",
       "260243            12  0         0      0           0         Pass  \n",
       "43337              0  0         0      0           0         Sack  \n",
       "345833             0  0         0      0           0         Pass  \n",
       "343382             8  0         0      0           0      No Play  \n",
       "325839             8  0         0      0           0         Pass  \n",
       "\n",
       "[30 rows x 25 columns]"
      ]
     },
     "execution_count": 73,
     "metadata": {},
     "output_type": "execute_result"
    }
   ],
   "source": [
    "df.sample(30)"
   ]
  },
  {
   "cell_type": "markdown",
   "metadata": {},
   "source": [
    "### 13 - Selecione aleatoriamente 1% dos dados (sem substituição) e exiba as amostras selecionadas. "
   ]
  },
  {
   "cell_type": "code",
   "execution_count": 74,
   "metadata": {},
   "outputs": [
    {
     "data": {
      "text/html": [
       "<div>\n",
       "<style scoped>\n",
       "    .dataframe tbody tr th:only-of-type {\n",
       "        vertical-align: middle;\n",
       "    }\n",
       "\n",
       "    .dataframe tbody tr th {\n",
       "        vertical-align: top;\n",
       "    }\n",
       "\n",
       "    .dataframe thead th {\n",
       "        text-align: right;\n",
       "    }\n",
       "</style>\n",
       "<table border=\"1\" class=\"dataframe\">\n",
       "  <thead>\n",
       "    <tr style=\"text-align: right;\">\n",
       "      <th></th>\n",
       "      <th>Date</th>\n",
       "      <th>GameID</th>\n",
       "      <th>Drive</th>\n",
       "      <th>qtr</th>\n",
       "      <th>time</th>\n",
       "      <th>TimeUnder</th>\n",
       "      <th>TimeSecs</th>\n",
       "      <th>PlayTimeDiff</th>\n",
       "      <th>SideofField</th>\n",
       "      <th>yrdln</th>\n",
       "      <th>...</th>\n",
       "      <th>posteam</th>\n",
       "      <th>DefensiveTeam</th>\n",
       "      <th>desc</th>\n",
       "      <th>PlayAttempted</th>\n",
       "      <th>Yards.Gained</th>\n",
       "      <th>sp</th>\n",
       "      <th>Touchdown</th>\n",
       "      <th>Safety</th>\n",
       "      <th>Onsidekick</th>\n",
       "      <th>PlayType</th>\n",
       "    </tr>\n",
       "  </thead>\n",
       "  <tbody>\n",
       "    <tr>\n",
       "      <th>299673</th>\n",
       "      <td>2015-11-26</td>\n",
       "      <td>2015112600</td>\n",
       "      <td>8</td>\n",
       "      <td>2</td>\n",
       "      <td>05:55</td>\n",
       "      <td>6</td>\n",
       "      <td>2155.0</td>\n",
       "      <td>43.0</td>\n",
       "      <td>PHI</td>\n",
       "      <td>34.0</td>\n",
       "      <td>...</td>\n",
       "      <td>DET</td>\n",
       "      <td>PHI</td>\n",
       "      <td>(5:55) (Shotgun) A.Abdullah left end pushed ob...</td>\n",
       "      <td>1</td>\n",
       "      <td>4</td>\n",
       "      <td>0</td>\n",
       "      <td>0</td>\n",
       "      <td>0</td>\n",
       "      <td>0</td>\n",
       "      <td>Run</td>\n",
       "    </tr>\n",
       "    <tr>\n",
       "      <th>295863</th>\n",
       "      <td>2015-11-15</td>\n",
       "      <td>2015111507</td>\n",
       "      <td>6</td>\n",
       "      <td>1</td>\n",
       "      <td>02:51</td>\n",
       "      <td>3</td>\n",
       "      <td>2871.0</td>\n",
       "      <td>40.0</td>\n",
       "      <td>CLE</td>\n",
       "      <td>41.0</td>\n",
       "      <td>...</td>\n",
       "      <td>CLE</td>\n",
       "      <td>PIT</td>\n",
       "      <td>(2:51) T.Benjamin right end to CLE 34 for -7 y...</td>\n",
       "      <td>1</td>\n",
       "      <td>-7</td>\n",
       "      <td>0</td>\n",
       "      <td>0</td>\n",
       "      <td>0</td>\n",
       "      <td>0</td>\n",
       "      <td>Run</td>\n",
       "    </tr>\n",
       "    <tr>\n",
       "      <th>114154</th>\n",
       "      <td>2011-11-13</td>\n",
       "      <td>2011111311</td>\n",
       "      <td>7</td>\n",
       "      <td>2</td>\n",
       "      <td>14:24</td>\n",
       "      <td>15</td>\n",
       "      <td>2664.0</td>\n",
       "      <td>36.0</td>\n",
       "      <td>SEA</td>\n",
       "      <td>31.0</td>\n",
       "      <td>...</td>\n",
       "      <td>SEA</td>\n",
       "      <td>BAL</td>\n",
       "      <td>(14:24) J.Ryan punts 44 yards to BAL 25, Cente...</td>\n",
       "      <td>1</td>\n",
       "      <td>9</td>\n",
       "      <td>0</td>\n",
       "      <td>0</td>\n",
       "      <td>0</td>\n",
       "      <td>0</td>\n",
       "      <td>Punt</td>\n",
       "    </tr>\n",
       "    <tr>\n",
       "      <th>250465</th>\n",
       "      <td>2014-11-09</td>\n",
       "      <td>2014110906</td>\n",
       "      <td>18</td>\n",
       "      <td>4</td>\n",
       "      <td>01:13</td>\n",
       "      <td>2</td>\n",
       "      <td>73.0</td>\n",
       "      <td>16.0</td>\n",
       "      <td>TB</td>\n",
       "      <td>43.0</td>\n",
       "      <td>...</td>\n",
       "      <td>TB</td>\n",
       "      <td>ATL</td>\n",
       "      <td>(1:13) J.McCown spiked the ball to stop the cl...</td>\n",
       "      <td>1</td>\n",
       "      <td>0</td>\n",
       "      <td>0</td>\n",
       "      <td>0</td>\n",
       "      <td>0</td>\n",
       "      <td>0</td>\n",
       "      <td>Spike</td>\n",
       "    </tr>\n",
       "    <tr>\n",
       "      <th>82825</th>\n",
       "      <td>2010-12-19</td>\n",
       "      <td>2010121905</td>\n",
       "      <td>11</td>\n",
       "      <td>2</td>\n",
       "      <td>01:15</td>\n",
       "      <td>2</td>\n",
       "      <td>1875.0</td>\n",
       "      <td>4.0</td>\n",
       "      <td>WAS</td>\n",
       "      <td>41.0</td>\n",
       "      <td>...</td>\n",
       "      <td>DAL</td>\n",
       "      <td>WAS</td>\n",
       "      <td>(1:15) (Shotgun) F.Jones left end to WAS 32 fo...</td>\n",
       "      <td>1</td>\n",
       "      <td>9</td>\n",
       "      <td>0</td>\n",
       "      <td>0</td>\n",
       "      <td>0</td>\n",
       "      <td>0</td>\n",
       "      <td>Run</td>\n",
       "    </tr>\n",
       "    <tr>\n",
       "      <th>...</th>\n",
       "      <td>...</td>\n",
       "      <td>...</td>\n",
       "      <td>...</td>\n",
       "      <td>...</td>\n",
       "      <td>...</td>\n",
       "      <td>...</td>\n",
       "      <td>...</td>\n",
       "      <td>...</td>\n",
       "      <td>...</td>\n",
       "      <td>...</td>\n",
       "      <td>...</td>\n",
       "      <td>...</td>\n",
       "      <td>...</td>\n",
       "      <td>...</td>\n",
       "      <td>...</td>\n",
       "      <td>...</td>\n",
       "      <td>...</td>\n",
       "      <td>...</td>\n",
       "      <td>...</td>\n",
       "      <td>...</td>\n",
       "      <td>...</td>\n",
       "    </tr>\n",
       "    <tr>\n",
       "      <th>224698</th>\n",
       "      <td>2013-12-29</td>\n",
       "      <td>2013122913</td>\n",
       "      <td>19</td>\n",
       "      <td>4</td>\n",
       "      <td>04:39</td>\n",
       "      <td>5</td>\n",
       "      <td>279.0</td>\n",
       "      <td>29.0</td>\n",
       "      <td>DEN</td>\n",
       "      <td>35.0</td>\n",
       "      <td>...</td>\n",
       "      <td>OAK</td>\n",
       "      <td>DEN</td>\n",
       "      <td>(4:39) (Shotgun) T.Pryor pass incomplete short...</td>\n",
       "      <td>1</td>\n",
       "      <td>0</td>\n",
       "      <td>0</td>\n",
       "      <td>0</td>\n",
       "      <td>0</td>\n",
       "      <td>0</td>\n",
       "      <td>Pass</td>\n",
       "    </tr>\n",
       "    <tr>\n",
       "      <th>75470</th>\n",
       "      <td>2010-11-29</td>\n",
       "      <td>2010112900</td>\n",
       "      <td>19</td>\n",
       "      <td>3</td>\n",
       "      <td>01:46</td>\n",
       "      <td>2</td>\n",
       "      <td>1006.0</td>\n",
       "      <td>4.0</td>\n",
       "      <td>MID</td>\n",
       "      <td>50.0</td>\n",
       "      <td>...</td>\n",
       "      <td>SF</td>\n",
       "      <td>ARI</td>\n",
       "      <td>(1:46) T.Smith pass incomplete deep left to M....</td>\n",
       "      <td>1</td>\n",
       "      <td>0</td>\n",
       "      <td>0</td>\n",
       "      <td>0</td>\n",
       "      <td>0</td>\n",
       "      <td>0</td>\n",
       "      <td>Pass</td>\n",
       "    </tr>\n",
       "    <tr>\n",
       "      <th>21104</th>\n",
       "      <td>2009-11-08</td>\n",
       "      <td>2009110805</td>\n",
       "      <td>10</td>\n",
       "      <td>2</td>\n",
       "      <td>02:18</td>\n",
       "      <td>3</td>\n",
       "      <td>1938.0</td>\n",
       "      <td>27.0</td>\n",
       "      <td>MIA</td>\n",
       "      <td>20.0</td>\n",
       "      <td>...</td>\n",
       "      <td>NaN</td>\n",
       "      <td>NaN</td>\n",
       "      <td>Timeout #2 by NE at 02:18.</td>\n",
       "      <td>1</td>\n",
       "      <td>0</td>\n",
       "      <td>0</td>\n",
       "      <td>0</td>\n",
       "      <td>0</td>\n",
       "      <td>0</td>\n",
       "      <td>Timeout</td>\n",
       "    </tr>\n",
       "    <tr>\n",
       "      <th>41329</th>\n",
       "      <td>2009-12-27</td>\n",
       "      <td>2009122708</td>\n",
       "      <td>27</td>\n",
       "      <td>4</td>\n",
       "      <td>02:00</td>\n",
       "      <td>2</td>\n",
       "      <td>120.0</td>\n",
       "      <td>18.0</td>\n",
       "      <td>DEN</td>\n",
       "      <td>5.0</td>\n",
       "      <td>...</td>\n",
       "      <td>NaN</td>\n",
       "      <td>NaN</td>\n",
       "      <td>Two-Minute Warning</td>\n",
       "      <td>1</td>\n",
       "      <td>0</td>\n",
       "      <td>0</td>\n",
       "      <td>0</td>\n",
       "      <td>0</td>\n",
       "      <td>0</td>\n",
       "      <td>Two Minute Warning</td>\n",
       "    </tr>\n",
       "    <tr>\n",
       "      <th>295240</th>\n",
       "      <td>2015-11-15</td>\n",
       "      <td>2015111503</td>\n",
       "      <td>16</td>\n",
       "      <td>4</td>\n",
       "      <td>12:11</td>\n",
       "      <td>13</td>\n",
       "      <td>731.0</td>\n",
       "      <td>39.0</td>\n",
       "      <td>TEN</td>\n",
       "      <td>34.0</td>\n",
       "      <td>...</td>\n",
       "      <td>CAR</td>\n",
       "      <td>TEN</td>\n",
       "      <td>(12:11) C.Newton pass short left to M.Tolbert ...</td>\n",
       "      <td>1</td>\n",
       "      <td>16</td>\n",
       "      <td>0</td>\n",
       "      <td>0</td>\n",
       "      <td>0</td>\n",
       "      <td>0</td>\n",
       "      <td>Pass</td>\n",
       "    </tr>\n",
       "  </tbody>\n",
       "</table>\n",
       "<p>3151 rows × 25 columns</p>\n",
       "</div>"
      ],
      "text/plain": [
       "              Date      GameID  Drive  qtr   time  TimeUnder  TimeSecs  \\\n",
       "299673  2015-11-26  2015112600      8    2  05:55          6    2155.0   \n",
       "295863  2015-11-15  2015111507      6    1  02:51          3    2871.0   \n",
       "114154  2011-11-13  2011111311      7    2  14:24         15    2664.0   \n",
       "250465  2014-11-09  2014110906     18    4  01:13          2      73.0   \n",
       "82825   2010-12-19  2010121905     11    2  01:15          2    1875.0   \n",
       "...            ...         ...    ...  ...    ...        ...       ...   \n",
       "224698  2013-12-29  2013122913     19    4  04:39          5     279.0   \n",
       "75470   2010-11-29  2010112900     19    3  01:46          2    1006.0   \n",
       "21104   2009-11-08  2009110805     10    2  02:18          3    1938.0   \n",
       "41329   2009-12-27  2009122708     27    4  02:00          2     120.0   \n",
       "295240  2015-11-15  2015111503     16    4  12:11         13     731.0   \n",
       "\n",
       "        PlayTimeDiff SideofField  yrdln  ...  posteam  DefensiveTeam  \\\n",
       "299673          43.0         PHI   34.0  ...      DET            PHI   \n",
       "295863          40.0         CLE   41.0  ...      CLE            PIT   \n",
       "114154          36.0         SEA   31.0  ...      SEA            BAL   \n",
       "250465          16.0          TB   43.0  ...       TB            ATL   \n",
       "82825            4.0         WAS   41.0  ...      DAL            WAS   \n",
       "...              ...         ...    ...  ...      ...            ...   \n",
       "224698          29.0         DEN   35.0  ...      OAK            DEN   \n",
       "75470            4.0         MID   50.0  ...       SF            ARI   \n",
       "21104           27.0         MIA   20.0  ...      NaN            NaN   \n",
       "41329           18.0         DEN    5.0  ...      NaN            NaN   \n",
       "295240          39.0         TEN   34.0  ...      CAR            TEN   \n",
       "\n",
       "                                                     desc  PlayAttempted  \\\n",
       "299673  (5:55) (Shotgun) A.Abdullah left end pushed ob...              1   \n",
       "295863  (2:51) T.Benjamin right end to CLE 34 for -7 y...              1   \n",
       "114154  (14:24) J.Ryan punts 44 yards to BAL 25, Cente...              1   \n",
       "250465  (1:13) J.McCown spiked the ball to stop the cl...              1   \n",
       "82825   (1:15) (Shotgun) F.Jones left end to WAS 32 fo...              1   \n",
       "...                                                   ...            ...   \n",
       "224698  (4:39) (Shotgun) T.Pryor pass incomplete short...              1   \n",
       "75470   (1:46) T.Smith pass incomplete deep left to M....              1   \n",
       "21104                          Timeout #2 by NE at 02:18.              1   \n",
       "41329                                  Two-Minute Warning              1   \n",
       "295240  (12:11) C.Newton pass short left to M.Tolbert ...              1   \n",
       "\n",
       "        Yards.Gained sp Touchdown Safety  Onsidekick            PlayType  \n",
       "299673             4  0         0      0           0                 Run  \n",
       "295863            -7  0         0      0           0                 Run  \n",
       "114154             9  0         0      0           0                Punt  \n",
       "250465             0  0         0      0           0               Spike  \n",
       "82825              9  0         0      0           0                 Run  \n",
       "...              ... ..       ...    ...         ...                 ...  \n",
       "224698             0  0         0      0           0                Pass  \n",
       "75470              0  0         0      0           0                Pass  \n",
       "21104              0  0         0      0           0             Timeout  \n",
       "41329              0  0         0      0           0  Two Minute Warning  \n",
       "295240            16  0         0      0           0                Pass  \n",
       "\n",
       "[3151 rows x 25 columns]"
      ]
     },
     "execution_count": 74,
     "metadata": {},
     "output_type": "execute_result"
    }
   ],
   "source": [
    "df.sample(frac=0.01)"
   ]
  },
  {
   "cell_type": "markdown",
   "metadata": {},
   "source": [
    "### 14 - Realize uma amostragem com substituição para criar uma amostra cujo tamanho é igual a 1% de todos os dados. Você deve poder observar instâncias duplicadas na amostra ao aumentar o tamanho da amostra."
   ]
  },
  {
   "cell_type": "code",
   "execution_count": 75,
   "metadata": {},
   "outputs": [
    {
     "data": {
      "text/html": [
       "<div>\n",
       "<style scoped>\n",
       "    .dataframe tbody tr th:only-of-type {\n",
       "        vertical-align: middle;\n",
       "    }\n",
       "\n",
       "    .dataframe tbody tr th {\n",
       "        vertical-align: top;\n",
       "    }\n",
       "\n",
       "    .dataframe thead th {\n",
       "        text-align: right;\n",
       "    }\n",
       "</style>\n",
       "<table border=\"1\" class=\"dataframe\">\n",
       "  <thead>\n",
       "    <tr style=\"text-align: right;\">\n",
       "      <th></th>\n",
       "      <th>Date</th>\n",
       "      <th>GameID</th>\n",
       "      <th>Drive</th>\n",
       "      <th>qtr</th>\n",
       "      <th>time</th>\n",
       "      <th>TimeUnder</th>\n",
       "      <th>TimeSecs</th>\n",
       "      <th>PlayTimeDiff</th>\n",
       "      <th>SideofField</th>\n",
       "      <th>yrdln</th>\n",
       "      <th>...</th>\n",
       "      <th>posteam</th>\n",
       "      <th>DefensiveTeam</th>\n",
       "      <th>desc</th>\n",
       "      <th>PlayAttempted</th>\n",
       "      <th>Yards.Gained</th>\n",
       "      <th>sp</th>\n",
       "      <th>Touchdown</th>\n",
       "      <th>Safety</th>\n",
       "      <th>Onsidekick</th>\n",
       "      <th>PlayType</th>\n",
       "    </tr>\n",
       "  </thead>\n",
       "  <tbody>\n",
       "    <tr>\n",
       "      <th>164445</th>\n",
       "      <td>2012-11-25</td>\n",
       "      <td>2012112507</td>\n",
       "      <td>7</td>\n",
       "      <td>1</td>\n",
       "      <td>02:32</td>\n",
       "      <td>3</td>\n",
       "      <td>2852.0</td>\n",
       "      <td>39.0</td>\n",
       "      <td>MIA</td>\n",
       "      <td>48.0</td>\n",
       "      <td>...</td>\n",
       "      <td>SEA</td>\n",
       "      <td>MIA</td>\n",
       "      <td>(2:32) (Punt formation) J.Ryan punts 38 yards ...</td>\n",
       "      <td>1</td>\n",
       "      <td>0</td>\n",
       "      <td>0</td>\n",
       "      <td>0</td>\n",
       "      <td>0</td>\n",
       "      <td>0</td>\n",
       "      <td>Punt</td>\n",
       "    </tr>\n",
       "    <tr>\n",
       "      <th>314474</th>\n",
       "      <td>2016-01-03</td>\n",
       "      <td>2016010309</td>\n",
       "      <td>13</td>\n",
       "      <td>3</td>\n",
       "      <td>02:40</td>\n",
       "      <td>3</td>\n",
       "      <td>1060.0</td>\n",
       "      <td>42.0</td>\n",
       "      <td>MID</td>\n",
       "      <td>50.0</td>\n",
       "      <td>...</td>\n",
       "      <td>DET</td>\n",
       "      <td>CHI</td>\n",
       "      <td>(2:40) (Shotgun) M.Stafford pass incomplete de...</td>\n",
       "      <td>1</td>\n",
       "      <td>0</td>\n",
       "      <td>0</td>\n",
       "      <td>0</td>\n",
       "      <td>0</td>\n",
       "      <td>0</td>\n",
       "      <td>Pass</td>\n",
       "    </tr>\n",
       "    <tr>\n",
       "      <th>275778</th>\n",
       "      <td>2015-09-20</td>\n",
       "      <td>2015092010</td>\n",
       "      <td>17</td>\n",
       "      <td>4</td>\n",
       "      <td>08:22</td>\n",
       "      <td>9</td>\n",
       "      <td>502.0</td>\n",
       "      <td>38.0</td>\n",
       "      <td>OAK</td>\n",
       "      <td>15.0</td>\n",
       "      <td>...</td>\n",
       "      <td>BAL</td>\n",
       "      <td>OAK</td>\n",
       "      <td>(8:22) J.Flacco up the middle to OAK 13 for 2 ...</td>\n",
       "      <td>1</td>\n",
       "      <td>2</td>\n",
       "      <td>0</td>\n",
       "      <td>0</td>\n",
       "      <td>0</td>\n",
       "      <td>0</td>\n",
       "      <td>Run</td>\n",
       "    </tr>\n",
       "    <tr>\n",
       "      <th>129655</th>\n",
       "      <td>2011-12-24</td>\n",
       "      <td>2011122406</td>\n",
       "      <td>6</td>\n",
       "      <td>1</td>\n",
       "      <td>01:20</td>\n",
       "      <td>2</td>\n",
       "      <td>2780.0</td>\n",
       "      <td>36.0</td>\n",
       "      <td>WAS</td>\n",
       "      <td>12.0</td>\n",
       "      <td>...</td>\n",
       "      <td>MIN</td>\n",
       "      <td>WAS</td>\n",
       "      <td>(1:20) A.Peterson right guard to WAS 10 for 2 ...</td>\n",
       "      <td>1</td>\n",
       "      <td>2</td>\n",
       "      <td>0</td>\n",
       "      <td>0</td>\n",
       "      <td>0</td>\n",
       "      <td>0</td>\n",
       "      <td>Run</td>\n",
       "    </tr>\n",
       "    <tr>\n",
       "      <th>172935</th>\n",
       "      <td>2012-12-16</td>\n",
       "      <td>2012121601</td>\n",
       "      <td>4</td>\n",
       "      <td>1</td>\n",
       "      <td>06:41</td>\n",
       "      <td>7</td>\n",
       "      <td>3101.0</td>\n",
       "      <td>44.0</td>\n",
       "      <td>ATL</td>\n",
       "      <td>24.0</td>\n",
       "      <td>...</td>\n",
       "      <td>ATL</td>\n",
       "      <td>NYG</td>\n",
       "      <td>(6:41) M.Turner left end to ATL 27 for 3 yards...</td>\n",
       "      <td>1</td>\n",
       "      <td>3</td>\n",
       "      <td>0</td>\n",
       "      <td>0</td>\n",
       "      <td>0</td>\n",
       "      <td>0</td>\n",
       "      <td>Run</td>\n",
       "    </tr>\n",
       "    <tr>\n",
       "      <th>...</th>\n",
       "      <td>...</td>\n",
       "      <td>...</td>\n",
       "      <td>...</td>\n",
       "      <td>...</td>\n",
       "      <td>...</td>\n",
       "      <td>...</td>\n",
       "      <td>...</td>\n",
       "      <td>...</td>\n",
       "      <td>...</td>\n",
       "      <td>...</td>\n",
       "      <td>...</td>\n",
       "      <td>...</td>\n",
       "      <td>...</td>\n",
       "      <td>...</td>\n",
       "      <td>...</td>\n",
       "      <td>...</td>\n",
       "      <td>...</td>\n",
       "      <td>...</td>\n",
       "      <td>...</td>\n",
       "      <td>...</td>\n",
       "      <td>...</td>\n",
       "    </tr>\n",
       "    <tr>\n",
       "      <th>42283</th>\n",
       "      <td>2010-01-03</td>\n",
       "      <td>2010010310</td>\n",
       "      <td>12</td>\n",
       "      <td>2</td>\n",
       "      <td>04:09</td>\n",
       "      <td>5</td>\n",
       "      <td>2049.0</td>\n",
       "      <td>5.0</td>\n",
       "      <td>ATL</td>\n",
       "      <td>30.0</td>\n",
       "      <td>...</td>\n",
       "      <td>TB</td>\n",
       "      <td>ATL</td>\n",
       "      <td>M.Koenen kicks 58 yards from ATL 30 to TB 12. ...</td>\n",
       "      <td>1</td>\n",
       "      <td>0</td>\n",
       "      <td>0</td>\n",
       "      <td>0</td>\n",
       "      <td>0</td>\n",
       "      <td>0</td>\n",
       "      <td>Kickoff</td>\n",
       "    </tr>\n",
       "    <tr>\n",
       "      <th>32173</th>\n",
       "      <td>2009-12-06</td>\n",
       "      <td>2009120603</td>\n",
       "      <td>15</td>\n",
       "      <td>3</td>\n",
       "      <td>12:05</td>\n",
       "      <td>13</td>\n",
       "      <td>1625.0</td>\n",
       "      <td>22.0</td>\n",
       "      <td>CIN</td>\n",
       "      <td>43.0</td>\n",
       "      <td>...</td>\n",
       "      <td>CIN</td>\n",
       "      <td>DET</td>\n",
       "      <td>(12:05) C.Palmer up the middle to CIN 45 for 2...</td>\n",
       "      <td>1</td>\n",
       "      <td>2</td>\n",
       "      <td>0</td>\n",
       "      <td>0</td>\n",
       "      <td>0</td>\n",
       "      <td>0</td>\n",
       "      <td>Run</td>\n",
       "    </tr>\n",
       "    <tr>\n",
       "      <th>251535</th>\n",
       "      <td>2014-11-13</td>\n",
       "      <td>2014111300</td>\n",
       "      <td>18</td>\n",
       "      <td>4</td>\n",
       "      <td>03:08</td>\n",
       "      <td>4</td>\n",
       "      <td>188.0</td>\n",
       "      <td>0.0</td>\n",
       "      <td>BUF</td>\n",
       "      <td>14.0</td>\n",
       "      <td>...</td>\n",
       "      <td>MIA</td>\n",
       "      <td>BUF</td>\n",
       "      <td>(3:08) (Shotgun) R.Tannehill pass incomplete s...</td>\n",
       "      <td>1</td>\n",
       "      <td>0</td>\n",
       "      <td>0</td>\n",
       "      <td>0</td>\n",
       "      <td>0</td>\n",
       "      <td>0</td>\n",
       "      <td>Pass</td>\n",
       "    </tr>\n",
       "    <tr>\n",
       "      <th>48128</th>\n",
       "      <td>2010-09-19</td>\n",
       "      <td>2010091906</td>\n",
       "      <td>11</td>\n",
       "      <td>2</td>\n",
       "      <td>03:12</td>\n",
       "      <td>4</td>\n",
       "      <td>1992.0</td>\n",
       "      <td>34.0</td>\n",
       "      <td>DET</td>\n",
       "      <td>13.0</td>\n",
       "      <td>...</td>\n",
       "      <td>DET</td>\n",
       "      <td>PHI</td>\n",
       "      <td>(3:12) (Shotgun) Sh.Hill scrambles up the midd...</td>\n",
       "      <td>1</td>\n",
       "      <td>13</td>\n",
       "      <td>0</td>\n",
       "      <td>0</td>\n",
       "      <td>0</td>\n",
       "      <td>0</td>\n",
       "      <td>Run</td>\n",
       "    </tr>\n",
       "    <tr>\n",
       "      <th>92709</th>\n",
       "      <td>2011-09-18</td>\n",
       "      <td>2011091808</td>\n",
       "      <td>4</td>\n",
       "      <td>1</td>\n",
       "      <td>05:08</td>\n",
       "      <td>6</td>\n",
       "      <td>3008.0</td>\n",
       "      <td>43.0</td>\n",
       "      <td>NO</td>\n",
       "      <td>39.0</td>\n",
       "      <td>...</td>\n",
       "      <td>NO</td>\n",
       "      <td>CHI</td>\n",
       "      <td>(5:08) R.Meachem right end pushed ob at NO 46 ...</td>\n",
       "      <td>1</td>\n",
       "      <td>7</td>\n",
       "      <td>0</td>\n",
       "      <td>0</td>\n",
       "      <td>0</td>\n",
       "      <td>0</td>\n",
       "      <td>Run</td>\n",
       "    </tr>\n",
       "  </tbody>\n",
       "</table>\n",
       "<p>3151 rows × 25 columns</p>\n",
       "</div>"
      ],
      "text/plain": [
       "              Date      GameID  Drive  qtr   time  TimeUnder  TimeSecs  \\\n",
       "164445  2012-11-25  2012112507      7    1  02:32          3    2852.0   \n",
       "314474  2016-01-03  2016010309     13    3  02:40          3    1060.0   \n",
       "275778  2015-09-20  2015092010     17    4  08:22          9     502.0   \n",
       "129655  2011-12-24  2011122406      6    1  01:20          2    2780.0   \n",
       "172935  2012-12-16  2012121601      4    1  06:41          7    3101.0   \n",
       "...            ...         ...    ...  ...    ...        ...       ...   \n",
       "42283   2010-01-03  2010010310     12    2  04:09          5    2049.0   \n",
       "32173   2009-12-06  2009120603     15    3  12:05         13    1625.0   \n",
       "251535  2014-11-13  2014111300     18    4  03:08          4     188.0   \n",
       "48128   2010-09-19  2010091906     11    2  03:12          4    1992.0   \n",
       "92709   2011-09-18  2011091808      4    1  05:08          6    3008.0   \n",
       "\n",
       "        PlayTimeDiff SideofField  yrdln  ...  posteam  DefensiveTeam  \\\n",
       "164445          39.0         MIA   48.0  ...      SEA            MIA   \n",
       "314474          42.0         MID   50.0  ...      DET            CHI   \n",
       "275778          38.0         OAK   15.0  ...      BAL            OAK   \n",
       "129655          36.0         WAS   12.0  ...      MIN            WAS   \n",
       "172935          44.0         ATL   24.0  ...      ATL            NYG   \n",
       "...              ...         ...    ...  ...      ...            ...   \n",
       "42283            5.0         ATL   30.0  ...       TB            ATL   \n",
       "32173           22.0         CIN   43.0  ...      CIN            DET   \n",
       "251535           0.0         BUF   14.0  ...      MIA            BUF   \n",
       "48128           34.0         DET   13.0  ...      DET            PHI   \n",
       "92709           43.0          NO   39.0  ...       NO            CHI   \n",
       "\n",
       "                                                     desc  PlayAttempted  \\\n",
       "164445  (2:32) (Punt formation) J.Ryan punts 38 yards ...              1   \n",
       "314474  (2:40) (Shotgun) M.Stafford pass incomplete de...              1   \n",
       "275778  (8:22) J.Flacco up the middle to OAK 13 for 2 ...              1   \n",
       "129655  (1:20) A.Peterson right guard to WAS 10 for 2 ...              1   \n",
       "172935  (6:41) M.Turner left end to ATL 27 for 3 yards...              1   \n",
       "...                                                   ...            ...   \n",
       "42283   M.Koenen kicks 58 yards from ATL 30 to TB 12. ...              1   \n",
       "32173   (12:05) C.Palmer up the middle to CIN 45 for 2...              1   \n",
       "251535  (3:08) (Shotgun) R.Tannehill pass incomplete s...              1   \n",
       "48128   (3:12) (Shotgun) Sh.Hill scrambles up the midd...              1   \n",
       "92709   (5:08) R.Meachem right end pushed ob at NO 46 ...              1   \n",
       "\n",
       "        Yards.Gained sp Touchdown Safety  Onsidekick  PlayType  \n",
       "164445             0  0         0      0           0      Punt  \n",
       "314474             0  0         0      0           0      Pass  \n",
       "275778             2  0         0      0           0       Run  \n",
       "129655             2  0         0      0           0       Run  \n",
       "172935             3  0         0      0           0       Run  \n",
       "...              ... ..       ...    ...         ...       ...  \n",
       "42283              0  0         0      0           0   Kickoff  \n",
       "32173              2  0         0      0           0       Run  \n",
       "251535             0  0         0      0           0      Pass  \n",
       "48128             13  0         0      0           0       Run  \n",
       "92709              7  0         0      0           0       Run  \n",
       "\n",
       "[3151 rows x 25 columns]"
      ]
     },
     "execution_count": 75,
     "metadata": {},
     "output_type": "execute_result"
    }
   ],
   "source": [
    "df.sample(frac=0.01, replace=True)"
   ]
  },
  {
   "cell_type": "markdown",
   "metadata": {},
   "source": [
    "## Discretização\n",
    "\n",
    "Discretização é uma etapa de pré-processamento de dados que é frequentemente usada para transformar um atributo de valor contínuo em um atributo categórico. O exemplo abaixo ilustra dois métodos de discretização simples, mas amplamente utilizados (largura igual e frequência igual)."
   ]
  },
  {
   "cell_type": "markdown",
   "metadata": {},
   "source": [
    "### 15 -  Plot um histograma que mostra a distribuição dos valores do atributo \"TimeSecs\". A função value_counts() também pode ser aplicada para contar a frequência de cada valor de atributo."
   ]
  },
  {
   "cell_type": "code",
   "execution_count": 78,
   "metadata": {},
   "outputs": [
    {
     "data": {
      "image/png": "[encoded data removed]",
      "text/plain": [
       "<Figure size 864x504 with 1 Axes>"
      ]
     },
     "metadata": {
      "needs_background": "light"
     },
     "output_type": "display_data"
    }
   ],
   "source": [
    "plt.figure(figsize=(12,7))\n",
    "plt.hist(x='TimeSecs', data=df, bins=20);"
   ]
  },
  {
   "cell_type": "markdown",
   "metadata": {},
   "source": [
    "### 16 - Para o método de largura igual, aplique a função cut() para discretizar o atributo em 4 bins de larguras de intervalo semelhantes. A função value_counts() pode ser usada para determinar o número de instâncias em cada bin.\n"
   ]
  },
  {
   "cell_type": "code",
   "execution_count": 79,
   "metadata": {},
   "outputs": [
    {
     "data": {
      "text/plain": [
       "(1350.0, 2475.0]     103528\n",
       "(225.0, 1350.0]       88905\n",
       "(2475.0, 3600.0]      87838\n",
       "(-904.501, 225.0]     34803\n",
       "Name: TimeSecs, dtype: int64"
      ]
     },
     "execution_count": 79,
     "metadata": {},
     "output_type": "execute_result"
    }
   ],
   "source": [
    "df['TimeSecs'].value_counts(bins=4)"
   ]
  },
  {
   "cell_type": "code",
   "execution_count": 74,
   "metadata": {},
   "outputs": [],
   "source": [
    "timesecs_largura = pd.cut(x=df['TimeSecs'], bins=[-904.501, 225.0, 1350.0, 2475.0, 3600.0], labels=['faixa-1', 'faixa-2', 'faixa-3', 'faixa-4'])"
   ]
  },
  {
   "cell_type": "code",
   "execution_count": 75,
   "metadata": {},
   "outputs": [
    {
     "data": {
      "text/plain": [
       "faixa-3    103528\n",
       "faixa-2     88905\n",
       "faixa-4     87838\n",
       "faixa-1     34803\n",
       "Name: TimeSecs, dtype: int64"
      ]
     },
     "execution_count": 75,
     "metadata": {},
     "output_type": "execute_result"
    }
   ],
   "source": [
    "timesecs_largura.value_counts()"
   ]
  },
  {
   "cell_type": "code",
   "execution_count": 77,
   "metadata": {},
   "outputs": [
    {
     "data": {
      "image/png": "[encoded data removed]",
      "text/plain": [
       "<Figure size 432x288 with 1 Axes>"
      ]
     },
     "metadata": {
      "needs_background": "light"
     },
     "output_type": "display_data"
    }
   ],
   "source": [
    "plt.hist(x=timesecs_largura.values, data=timesecs_largura);"
   ]
  },
  {
   "cell_type": "markdown",
   "metadata": {},
   "source": [
    "### 17 -Para o método de frequência igual, aplique a função qcut() ppara particionar os valores em 4 compartimentos, de forma que cada bin tenha quase o mesmo número de instâncias.\n"
   ]
  },
  {
   "cell_type": "code",
   "execution_count": 80,
   "metadata": {},
   "outputs": [
    {
     "data": {
      "text/plain": [
       "(1350.0, 2475.0]     103528\n",
       "(225.0, 1350.0]       88905\n",
       "(2475.0, 3600.0]      87838\n",
       "(-904.501, 225.0]     34803\n",
       "Name: TimeSecs, dtype: int64"
      ]
     },
     "execution_count": 80,
     "metadata": {},
     "output_type": "execute_result"
    }
   ],
   "source": [
    "df['TimeSecs'].value_counts(bins=4)"
   ]
  },
  {
   "cell_type": "code",
   "execution_count": 86,
   "metadata": {},
   "outputs": [
    {
     "data": {
      "text/plain": [
       "(783.0, 1800.0]      81654\n",
       "(-900.001, 783.0]    78812\n",
       "(2600.0, 3600.0]     78729\n",
       "(1800.0, 2600.0]     75879\n",
       "Name: TimeSecs, dtype: int64"
      ]
     },
     "execution_count": 86,
     "metadata": {},
     "output_type": "execute_result"
    }
   ],
   "source": [
    "pd.qcut(x=df['TimeSecs'], q=4).value_counts()"
   ]
  },
  {
   "cell_type": "code",
   "execution_count": 84,
   "metadata": {},
   "outputs": [
    {
     "data": {
      "text/plain": [
       "faixa-2    81654\n",
       "faixa-1    78812\n",
       "faixa-4    78729\n",
       "faixa-3    75879\n",
       "Name: TimeSecs, dtype: int64"
      ]
     },
     "execution_count": 84,
     "metadata": {},
     "output_type": "execute_result"
    }
   ],
   "source": [
    "timesecs_frequencia.value_counts()"
   ]
  },
  {
   "cell_type": "code",
   "execution_count": 85,
   "metadata": {},
   "outputs": [
    {
     "data": {
      "image/png": "[encoded data removed]",
      "text/plain": [
       "<Figure size 432x288 with 1 Axes>"
      ]
     },
     "metadata": {
      "needs_background": "light"
     },
     "output_type": "display_data"
    }
   ],
   "source": [
    "plt.hist(x=timesecs_frequencia.values, data=timesecs_frequencia);"
   ]
  },
  {
   "cell_type": "markdown",
   "metadata": {},
   "source": [
    "\n",
    "**<font color='blue'>References:</font>**\n",
    "\n",
    "1. Lichman, M. (2013). UCI Machine Learning Repository [http://archive.ics.uci.edu/ml]. Irvine, CA: University of California, School of Information and Computer Science. \n",
    "\n",
    "2. Mangasarian, O.L. and Wolberg, W. H. (1990). \"Cancer diagnosis via linear programming\", SIAM News, Volume 23, Number 5, pp 1 & 18.\n",
    "\n",
    "3. Wolberg, W.H. and Mangasarian, O.L. (1990). \"Multisurface method of pattern separation for medical diagnosis applied to breast cytology\", Proceedings of the National Academy of Sciences, U.S.A., Volume 87, pp 9193-9196. \n",
    "\n",
    "4. Climate Data Online [https://www.ncdc.noaa.gov/cdo-web/]. "
   ]
  }
 ],
 "metadata": {
  "kernelspec": {
   "display_name": "Python 3",
   "language": "python",
   "name": "python3"
  },
  "language_info": {
   "codemirror_mode": {
    "name": "ipython",
    "version": 3
   },
   "file_extension": ".py",
   "mimetype": "text/x-python",
   "name": "python",
   "nbconvert_exporter": "python",
   "pygments_lexer": "ipython3",
   "version": "3.7.6"
  }
 },
 "nbformat": 4,
 "nbformat_minor": 1
}
